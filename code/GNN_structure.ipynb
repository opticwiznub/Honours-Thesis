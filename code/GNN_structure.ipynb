{
 "cells": [
  {
   "cell_type": "code",
   "execution_count": 30,
   "metadata": {},
   "outputs": [],
   "source": [
    "# import torch\n",
    "# from torch.nn import Linear, Parameter\n",
    "# from torch_geometric.nn import MessagePassing\n",
    "# from torch_geometric.utils import add_self_loops, degree\n",
    "\n",
    "# class GCNConv(MessagePassing):\n",
    "#     def __init__(self, in_channels, out_channels):\n",
    "#         super().__init__(aggr='add')  # \"Add\" aggregation (Step 5).\n",
    "#         self.lin = Linear(in_channels, out_channels, bias=False)\n",
    "#         '''\n",
    "#         nn.Linear(n,m) is a module that creates single layer feed forward network with n inputs and m output. \n",
    "#         Mathematically, this module is designed to calculate the linear equation Ax = b where x is input, b is output, A is weight. \n",
    "#         This is where the name 'Linear' came from. Essentially calculates weights for the model\n",
    "#         '''\n",
    "#         self.bias = Parameter(torch.Tensor(out_channels))\n",
    "\n",
    "#         self.reset_parameters()\n",
    "\n",
    "#     def reset_parameters(self):\n",
    "#         self.lin.reset_parameters()\n",
    "#         self.bias.data.zero_()\n",
    "\n",
    "#     def forward(self, x, edge_index):\n",
    "#         # x has shape [N, in_channels]\n",
    "#         # edge_index has shape [2, E]\n",
    "\n",
    "#         # Step 1: Add self-loops to the adjacency matrix.\n",
    "#         edge_index, _ = add_self_loops(edge_index, num_nodes=x.size(0))\n",
    "\n",
    "#         # Step 2: Linearly transform node feature matrix.\n",
    "#         x = self.lin(x)\n",
    "\n",
    "#         # Step 3: Compute normalization.\n",
    "#         row, col = edge_index\n",
    "#         deg = degree(col, x.size(0), dtype=x.dtype)\n",
    "#         deg_inv_sqrt = deg.pow(-0.5)\n",
    "#         deg_inv_sqrt[deg_inv_sqrt == float('inf')] = 0\n",
    "#         norm = deg_inv_sqrt[row] * deg_inv_sqrt[col]\n",
    "\n",
    "#         # Step 4-5: Start propagating messages.\n",
    "#         out = self.propagate(edge_index, x=x, norm=norm)\n",
    "\n",
    "#         # Step 6: Apply a final bias vector.\n",
    "#         out += self.bias\n",
    "\n",
    "#         return out\n",
    "\n",
    "#     def message(self, x_j, norm):\n",
    "#         # x_j has shape [E, out_channels]\n",
    "\n",
    "#         # Step 4: Normalize node features.\n",
    "#         return norm.view(-1, 1) * x_j"
   ]
  },
  {
   "attachments": {},
   "cell_type": "markdown",
   "metadata": {},
   "source": [
    "X is the feature vector i.e training data. Each node in the graph has a feature vector and "
   ]
  },
  {
   "cell_type": "code",
   "execution_count": null,
   "metadata": {},
   "outputs": [],
   "source": [
    "# import torch.nn.functional as F\n",
    "# from torch_geometric.nn import GCNConv\n",
    "# import torch\n",
    "\n",
    "# class GCN(torch.nn.Module):\n",
    "#     def __init__(self, hidden_channels):\n",
    "#         super(GCN, self).__init__()\n",
    "#         torch.manual_seed(12345)\n",
    "#         self.conv1 = GCNConv(1, hidden_channels)\n",
    "#         self.conv2 = GCNConv(hidden_channels, dataset.num_classes)\n",
    "#         self.linear1 = torch.nn.Linear(100,1)\n",
    "#     def forward(self, x, edge_index):\n",
    "#         x = self.conv1(x, edge_index)\n",
    "#         x = x.relu()\n",
    "#         x = F.dropout(x, p=0.5, training=self.training)\n",
    "#         x = self.conv2(x, edge_index)\n",
    "#         x = self.linear1(x) # This probably isnt needed just return x\n",
    "#         return x"
   ]
  },
  {
   "cell_type": "code",
   "execution_count": null,
   "metadata": {},
   "outputs": [],
   "source": [
    "import torch\n",
    "from torch_geometric.data import Data\n",
    "from glob import glob\n",
    "import xarray as xr\n",
    "\n",
    "edge_index = []\n",
    "x = []\n",
    "\n",
    "for i in range(39):\n",
    "    for j in range(39):\n",
    "        if i != j:\n",
    "            edge_index.append([i, j])\n",
    "\n",
    "edge_index = torch.tensor(edge_index, dtype=torch.long)\n",
    "\n",
    "for filename in glob.glob('data\\\\tas_scenario_245\\\\tas_mon_mod_ssp245_192_*.nc'):\n",
    "    print('Processing', filename)\n",
    "    \n",
    "    data = xr.open_dataset(filename)\n",
    "    tas_vector = data.to_dataframe().reset_index()['tas']\n",
    "    if filename == 'data\\\\tas_scenario_245\\\\tas_mon_mod_ssp245_192_000.nc':\n",
    "        print('y found')\n",
    "        y = tas_vector\n",
    "    else:\n",
    "        x.append(tas_vector)\n",
    "\n",
    "x = torch.tensor(x, dtype=torch.float)\n",
    "y = torch.tensor(y, dtype=torch.float)\n",
    "data = Data(x=x, edge_index=edge_index.t().contiguous(), y=y)"
   ]
  },
  {
   "cell_type": "code",
   "execution_count": 29,
   "metadata": {},
   "outputs": [],
   "source": [
    "import torch.nn.functional as F\n",
    "from torch_geometric.nn import GCNConv\n",
    "import torch\n",
    "\n",
    "class GCN(torch.nn.Module):\n",
    "    def __init__(self):\n",
    "        super().__init__()\n",
    "        self.edge_weight = torch.nn.Parameter(torch.ones(data.num_edges))\n",
    "        self.conv1 = GCNConv(data.num_node_features, 16)\n",
    "        self.conv2 = GCNConv(16, 1)\n",
    "\n",
    "    def forward(self, data):\n",
    "        x, edge_index = data.x, data.edge_index\n",
    "\n",
    "        x = self.conv1(x, edge_index,torch.minimum(self.edge_weight.abs(),torch.ones(data.num_edges)))\n",
    "        x = F.relu(x)\n",
    "        x = F.dropout(x, training=self.training)\n",
    "        x = self.conv2(x, edge_index,torch.minimum(self.edge_weight.abs(),torch.ones(data.num_edges)))\n",
    "\n",
    "        return x\n"
   ]
  },
  {
   "cell_type": "code",
   "execution_count": 31,
   "metadata": {},
   "outputs": [
    {
     "data": {
      "text/plain": [
       "True"
      ]
     },
     "execution_count": 31,
     "metadata": {},
     "output_type": "execute_result"
    }
   ],
   "source": [
    "data.validate(raise_on_error=True)"
   ]
  },
  {
   "cell_type": "code",
   "execution_count": 34,
   "metadata": {},
   "outputs": [
    {
     "data": {
      "text/plain": [
       "AttrView(store=Data(x=[39, 83275776], edge_index=[2, 1482], y=[83275776]), attr=DataTensorAttr(group_name=None, attr_name=<FieldStatus.UNSET: 1>, index=None))"
      ]
     },
     "execution_count": 34,
     "metadata": {},
     "output_type": "execute_result"
    }
   ],
   "source": [
    "data.view()"
   ]
  },
  {
   "cell_type": "code",
   "execution_count": 27,
   "metadata": {},
   "outputs": [
    {
     "data": {
      "text/plain": [
       "83275776"
      ]
     },
     "execution_count": 27,
     "metadata": {},
     "output_type": "execute_result"
    }
   ],
   "source": [
    "data.num_node_features"
   ]
  },
  {
   "cell_type": "code",
   "execution_count": 33,
   "metadata": {},
   "outputs": [
    {
     "ename": "ValueError",
     "evalue": "Expected input batch_size (39) to match target batch_size (83275776).",
     "output_type": "error",
     "traceback": [
      "\u001b[1;31m---------------------------------------------------------------------------\u001b[0m",
      "\u001b[1;31mValueError\u001b[0m                                Traceback (most recent call last)",
      "Cell \u001b[1;32mIn[33], line 12\u001b[0m\n\u001b[0;32m     10\u001b[0m optimizer\u001b[39m.\u001b[39mzero_grad()\n\u001b[0;32m     11\u001b[0m out \u001b[39m=\u001b[39m model(data)\n\u001b[1;32m---> 12\u001b[0m loss \u001b[39m=\u001b[39m F\u001b[39m.\u001b[39;49mnll_loss(out, data\u001b[39m.\u001b[39;49my)\n\u001b[0;32m     13\u001b[0m loss\u001b[39m.\u001b[39mbackward()\n\u001b[0;32m     14\u001b[0m optimizer\u001b[39m.\u001b[39mstep()\n",
      "File \u001b[1;32mc:\\Users\\jqcla\\Documents\\GitHub\\Honours-Thesis\\.conda\\lib\\site-packages\\torch\\nn\\functional.py:2689\u001b[0m, in \u001b[0;36mnll_loss\u001b[1;34m(input, target, weight, size_average, ignore_index, reduce, reduction)\u001b[0m\n\u001b[0;32m   2687\u001b[0m \u001b[39mif\u001b[39;00m size_average \u001b[39mis\u001b[39;00m \u001b[39mnot\u001b[39;00m \u001b[39mNone\u001b[39;00m \u001b[39mor\u001b[39;00m reduce \u001b[39mis\u001b[39;00m \u001b[39mnot\u001b[39;00m \u001b[39mNone\u001b[39;00m:\n\u001b[0;32m   2688\u001b[0m     reduction \u001b[39m=\u001b[39m _Reduction\u001b[39m.\u001b[39mlegacy_get_string(size_average, reduce)\n\u001b[1;32m-> 2689\u001b[0m \u001b[39mreturn\u001b[39;00m torch\u001b[39m.\u001b[39;49m_C\u001b[39m.\u001b[39;49m_nn\u001b[39m.\u001b[39;49mnll_loss_nd(\u001b[39minput\u001b[39;49m, target, weight, _Reduction\u001b[39m.\u001b[39;49mget_enum(reduction), ignore_index)\n",
      "\u001b[1;31mValueError\u001b[0m: Expected input batch_size (39) to match target batch_size (83275776)."
     ]
    }
   ],
   "source": [
    "device = torch.device('cuda' if torch.cuda.is_available() else 'cpu')\n",
    "model = GCN().to(device)\n",
    "data = data.to(device)\n",
    "\n",
    "\n",
    "optimizer = torch.optim.Adam(model.parameters(), lr=0.01, weight_decay=5e-4)\n",
    "\n",
    "model.train()\n",
    "for epoch in range(100):\n",
    "    optimizer.zero_grad()\n",
    "    out = model(data)\n",
    "    loss = F.nll_loss(out, data.y)\n",
    "    loss.backward()\n",
    "    optimizer.step()"
   ]
  },
  {
   "cell_type": "code",
   "execution_count": null,
   "metadata": {},
   "outputs": [],
   "source": []
  }
 ],
 "metadata": {
  "kernelspec": {
   "display_name": "Python 3",
   "language": "python",
   "name": "python3"
  },
  "language_info": {
   "codemirror_mode": {
    "name": "ipython",
    "version": 3
   },
   "file_extension": ".py",
   "mimetype": "text/x-python",
   "name": "python",
   "nbconvert_exporter": "python",
   "pygments_lexer": "ipython3",
   "version": "3.9.16"
  },
  "orig_nbformat": 4
 },
 "nbformat": 4,
 "nbformat_minor": 2
}
