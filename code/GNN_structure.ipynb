{
 "cells": [
  {
   "cell_type": "code",
   "execution_count": 81,
   "metadata": {},
   "outputs": [],
   "source": [
    "import torch\n",
    "import torch_geometric\n",
    "import torch_geometric.transforms as T\n",
    "from glob import glob\n",
    "import xarray as xr\n",
    "import pandas as pd"
   ]
  },
  {
   "cell_type": "code",
   "execution_count": 82,
   "metadata": {},
   "outputs": [
    {
     "data": {
      "text/plain": [
       "False"
      ]
     },
     "execution_count": 82,
     "metadata": {},
     "output_type": "execute_result"
    }
   ],
   "source": [
    "torch.cuda.is_available()"
   ]
  },
  {
   "cell_type": "code",
   "execution_count": 83,
   "metadata": {},
   "outputs": [],
   "source": [
    "class ssp_data():\n",
    "    def __init__(self, n=39) -> None:\n",
    "        self.n = n\n",
    "        self.init_edge_list(n)\n",
    "        self.y_file = 'data\\\\tas_scenario_245\\\\tas_mon_mod_ssp245_192_000.nc'\n",
    "        self.x_file_list = [item for item in glob('data\\\\tas_scenario_245\\\\tas_mon_mod_ssp245_192_*.nc') if item not in [self.y_file]][0 : self.n]\n",
    "        self.create_df()\n",
    "        self.x_tensor = self.create_tensors(self.x).T\n",
    "        self.y_tensor = self.create_tensors(self.y)\n",
    "        self.data = torch_geometric.data.Data(x=self.x_tensor, edge_index=self.edge_index.t().contiguous(), y=self.y_tensor)\n",
    "        self.split_data()\n",
    "        # self.mini_graphs()\n",
    "\n",
    "    def init_edge_list(self, n):\n",
    "        self.edge_index = []\n",
    "        for i in range(n):\n",
    "            for j in range(n):\n",
    "                if i != j:\n",
    "                    self.edge_index.append([i, j])\n",
    "        self.edge_index = torch.tensor(self.edge_index, dtype=torch.long)\n",
    "\n",
    "    def create_df(self):\n",
    "        self.x = pd.DataFrame()\n",
    "        i = 1\n",
    "        for filename in self.x_file_list:\n",
    "            print('Processing', filename)\n",
    "            self.x[f'model_{i}'] = self.create_vector(filename)\n",
    "            i += 1\n",
    "        \n",
    "        self.y = self.create_vector(self.y_file)\n",
    "\n",
    "    def create_vector(self, filename):\n",
    "        data = xr.open_dataset(filename)\n",
    "        tas_vector = data.to_dataframe().reset_index()['tas'][0:5000]\n",
    "        return tas_vector\n",
    "    \n",
    "    def get_device(self):\n",
    "        if torch.cuda.is_available():\n",
    "            device = torch.device('cuda:0')\n",
    "        else:\n",
    "            device = torch.device('cpu') # don't have GPU \n",
    "        return device\n",
    "\n",
    "    def create_tensors(self, df):\n",
    "        device = self.get_device()\n",
    "        return torch.from_numpy(df.values).float().to(device)\n",
    "    \n",
    "    def mini_graphs(self):\n",
    "        df = self.x\n",
    "        df['x_tensor'] = df.apply(lambda row: torch.tensor(row.values.flatten()), axis=1)\n",
    "        df['y'] = self.y\n",
    "        df['y_tensor'] = df['y'].apply(lambda y: torch.tensor(y))\n",
    "        df['data_obj'] = df.apply(lambda row: torch_geometric.data.Data(x=df['x_tensor'], edge_index=self.edge_index.t().contiguous(), y=df['y_tensor']), axis=1)\n",
    "        self.batch_graphs = df['data_obj']\n",
    "    \n",
    "    def split_data(self):\n",
    "        transform = T.Compose([T.RandomNodeSplit(num_test=1000, num_val=1000)])\n",
    "        self.data = transform(self.data) \n"
   ]
  },
  {
   "cell_type": "code",
   "execution_count": 84,
   "metadata": {},
   "outputs": [
    {
     "name": "stdout",
     "output_type": "stream",
     "text": [
      "Processing data\\tas_scenario_245\\tas_mon_mod_ssp245_192_001.nc\n",
      "Processing data\\tas_scenario_245\\tas_mon_mod_ssp245_192_002.nc\n"
     ]
    }
   ],
   "source": [
    "ssp_data = ssp_data(n=39)"
   ]
  },
  {
   "cell_type": "code",
   "execution_count": null,
   "metadata": {},
   "outputs": [
    {
     "data": {
      "text/plain": [
       "True"
      ]
     },
     "execution_count": 71,
     "metadata": {},
     "output_type": "execute_result"
    }
   ],
   "source": [
    "ssp_data.data.validate()"
   ]
  },
  {
   "cell_type": "code",
   "execution_count": null,
   "metadata": {},
   "outputs": [
    {
     "data": {
      "text/plain": [
       "tensor([[243.8454, 241.6632, 247.5146],\n",
       "        [235.3529, 237.1550, 234.1314],\n",
       "        [223.9142, 221.3933, 226.5480],\n",
       "        ...,\n",
       "        [217.1660, 219.4037, 223.5101],\n",
       "        [217.9901, 214.1802, 225.3063],\n",
       "        [220.2681, 217.7450, 218.0767]])"
      ]
     },
     "execution_count": 72,
     "metadata": {},
     "output_type": "execute_result"
    }
   ],
   "source": [
    "ssp_data.x_tensor.T"
   ]
  },
  {
   "cell_type": "code",
   "execution_count": null,
   "metadata": {},
   "outputs": [
    {
     "data": {
      "text/plain": [
       "Data(x=[3, 5000], edge_index=[2, 6], y=[5000], train_mask=[3], val_mask=[3], test_mask=[3])"
      ]
     },
     "execution_count": 73,
     "metadata": {},
     "output_type": "execute_result"
    }
   ],
   "source": [
    "ssp_data.data"
   ]
  },
  {
   "cell_type": "code",
   "execution_count": null,
   "metadata": {},
   "outputs": [
    {
     "data": {
      "text/plain": [
       "39"
      ]
     },
     "execution_count": 59,
     "metadata": {},
     "output_type": "execute_result"
    }
   ],
   "source": [
    "ssp_data.data.num_node_features"
   ]
  },
  {
   "cell_type": "code",
   "execution_count": null,
   "metadata": {},
   "outputs": [],
   "source": [
    "import torch.nn.functional as F\n",
    "from torch_geometric.nn import GCNConv\n",
    "import torch\n",
    "\n",
    "class GCN(torch.nn.Module):\n",
    "    def __init__(self):\n",
    "        super().__init__()\n",
    "        # self.edge_weight = torch.nn.Parameter(torch.ones(ssp_data.data.num_edges))\n",
    "        self.conv1 = GCNConv(ssp_data.data.num_node_features, 16)\n",
    "        self.conv2 = GCNConv(16, 5000)\n",
    "\n",
    "    def forward(self, data):\n",
    "        x, edge_index = data.x, data.edge_index\n",
    "\n",
    "        x = self.conv1(x, edge_index)#, torch.minimum(self.edge_weight.abs(),torch.ones(data.num_edges)))\n",
    "        x = F.relu(x)\n",
    "        x = F.dropout(x, training=self.training)\n",
    "        # print(x, edge_index, torch.minimum(self.edge_weight.abs(),torch.ones(data.num_edges)))\n",
    "        x = self.conv2(x, edge_index)#, torch.minimum(self.edge_weight.abs(),torch.ones(data.num_edges)))\n",
    "\n",
    "        return x\n"
   ]
  },
  {
   "cell_type": "code",
   "execution_count": null,
   "metadata": {},
   "outputs": [
    {
     "name": "stderr",
     "output_type": "stream",
     "text": [
      "C:\\Users\\jqcla\\AppData\\Local\\Temp\\ipykernel_8980\\3691684479.py:11: UserWarning: Using a target size (torch.Size([5000])) that is different to the input size (torch.Size([3, 5000])). This will likely lead to incorrect results due to broadcasting. Please ensure they have the same size.\n",
      "  loss = F.mse_loss(out, data.y)\n"
     ]
    },
    {
     "name": "stdout",
     "output_type": "stream",
     "text": [
      "0 tensor(51451.1133, grad_fn=<MseLossBackward0>)\n",
      "1 tensor(51244.1250, grad_fn=<MseLossBackward0>)\n",
      "2 tensor(51248.2383, grad_fn=<MseLossBackward0>)\n",
      "3 tensor(51229.3945, grad_fn=<MseLossBackward0>)\n",
      "4 tensor(10014.2461, grad_fn=<MseLossBackward0>)\n",
      "5 tensor(165138.4531, grad_fn=<MseLossBackward0>)\n",
      "6 tensor(33700.7617, grad_fn=<MseLossBackward0>)\n",
      "7 tensor(37168.6914, grad_fn=<MseLossBackward0>)\n",
      "8 tensor(51220.0078, grad_fn=<MseLossBackward0>)\n",
      "9 tensor(51217.5195, grad_fn=<MseLossBackward0>)\n",
      "10 tensor(51214.7383, grad_fn=<MseLossBackward0>)\n",
      "11 tensor(51211.7148, grad_fn=<MseLossBackward0>)\n",
      "12 tensor(51208.5078, grad_fn=<MseLossBackward0>)\n",
      "13 tensor(51205.1367, grad_fn=<MseLossBackward0>)\n",
      "14 tensor(51201.6172, grad_fn=<MseLossBackward0>)\n",
      "15 tensor(51197.9922, grad_fn=<MseLossBackward0>)\n",
      "16 tensor(51194.2617, grad_fn=<MseLossBackward0>)\n",
      "17 tensor(51190.4414, grad_fn=<MseLossBackward0>)\n",
      "18 tensor(51186.5508, grad_fn=<MseLossBackward0>)\n",
      "19 tensor(51182.5938, grad_fn=<MseLossBackward0>)\n",
      "20 tensor(51178.5820, grad_fn=<MseLossBackward0>)\n",
      "21 tensor(51174.5156, grad_fn=<MseLossBackward0>)\n",
      "22 tensor(51170.4062, grad_fn=<MseLossBackward0>)\n",
      "23 tensor(51166.2578, grad_fn=<MseLossBackward0>)\n",
      "24 tensor(51162.0781, grad_fn=<MseLossBackward0>)\n",
      "25 tensor(51157.8672, grad_fn=<MseLossBackward0>)\n",
      "26 tensor(51153.6289, grad_fn=<MseLossBackward0>)\n",
      "27 tensor(51149.3711, grad_fn=<MseLossBackward0>)\n",
      "28 tensor(51145.0820, grad_fn=<MseLossBackward0>)\n",
      "29 tensor(51140.7773, grad_fn=<MseLossBackward0>)\n",
      "30 tensor(51136.4531, grad_fn=<MseLossBackward0>)\n",
      "31 tensor(51132.1211, grad_fn=<MseLossBackward0>)\n",
      "32 tensor(51127.7695, grad_fn=<MseLossBackward0>)\n",
      "33 tensor(51123.4102, grad_fn=<MseLossBackward0>)\n",
      "34 tensor(51119.0352, grad_fn=<MseLossBackward0>)\n",
      "35 tensor(51114.6523, grad_fn=<MseLossBackward0>)\n",
      "36 tensor(51110.2617, grad_fn=<MseLossBackward0>)\n",
      "37 tensor(51105.8594, grad_fn=<MseLossBackward0>)\n",
      "38 tensor(51101.4492, grad_fn=<MseLossBackward0>)\n",
      "39 tensor(51097.0352, grad_fn=<MseLossBackward0>)\n",
      "40 tensor(51092.6211, grad_fn=<MseLossBackward0>)\n",
      "41 tensor(51088.1953, grad_fn=<MseLossBackward0>)\n",
      "42 tensor(51083.7656, grad_fn=<MseLossBackward0>)\n",
      "43 tensor(51079.3320, grad_fn=<MseLossBackward0>)\n",
      "44 tensor(51074.8984, grad_fn=<MseLossBackward0>)\n",
      "45 tensor(51070.4609, grad_fn=<MseLossBackward0>)\n",
      "46 tensor(51066.0078, grad_fn=<MseLossBackward0>)\n",
      "47 tensor(51061.5625, grad_fn=<MseLossBackward0>)\n",
      "48 tensor(51057.1133, grad_fn=<MseLossBackward0>)\n",
      "49 tensor(51052.6641, grad_fn=<MseLossBackward0>)\n",
      "50 tensor(51048.2109, grad_fn=<MseLossBackward0>)\n",
      "51 tensor(51043.7539, grad_fn=<MseLossBackward0>)\n",
      "52 tensor(51039.3008, grad_fn=<MseLossBackward0>)\n",
      "53 tensor(51034.8359, grad_fn=<MseLossBackward0>)\n",
      "54 tensor(51030.3828, grad_fn=<MseLossBackward0>)\n",
      "55 tensor(51025.9219, grad_fn=<MseLossBackward0>)\n",
      "56 tensor(51021.4609, grad_fn=<MseLossBackward0>)\n",
      "57 tensor(51017.0039, grad_fn=<MseLossBackward0>)\n",
      "58 tensor(51012.5352, grad_fn=<MseLossBackward0>)\n",
      "59 tensor(51008.0781, grad_fn=<MseLossBackward0>)\n",
      "60 tensor(51003.6094, grad_fn=<MseLossBackward0>)\n",
      "61 tensor(50999.1406, grad_fn=<MseLossBackward0>)\n",
      "62 tensor(50994.6797, grad_fn=<MseLossBackward0>)\n",
      "63 tensor(50990.2148, grad_fn=<MseLossBackward0>)\n",
      "64 tensor(50985.7500, grad_fn=<MseLossBackward0>)\n",
      "65 tensor(50981.2852, grad_fn=<MseLossBackward0>)\n",
      "66 tensor(50976.8203, grad_fn=<MseLossBackward0>)\n",
      "67 tensor(50972.3477, grad_fn=<MseLossBackward0>)\n",
      "68 tensor(50967.8867, grad_fn=<MseLossBackward0>)\n",
      "69 tensor(50963.4141, grad_fn=<MseLossBackward0>)\n",
      "70 tensor(50958.9453, grad_fn=<MseLossBackward0>)\n",
      "71 tensor(50954.4883, grad_fn=<MseLossBackward0>)\n",
      "72 tensor(50950.0156, grad_fn=<MseLossBackward0>)\n",
      "73 tensor(50945.5469, grad_fn=<MseLossBackward0>)\n",
      "74 tensor(50941.0820, grad_fn=<MseLossBackward0>)\n",
      "75 tensor(50936.6133, grad_fn=<MseLossBackward0>)\n",
      "76 tensor(50932.1445, grad_fn=<MseLossBackward0>)\n",
      "77 tensor(50927.6797, grad_fn=<MseLossBackward0>)\n",
      "78 tensor(50923.2109, grad_fn=<MseLossBackward0>)\n",
      "79 tensor(50918.7461, grad_fn=<MseLossBackward0>)\n",
      "80 tensor(50914.2773, grad_fn=<MseLossBackward0>)\n",
      "81 tensor(50909.8086, grad_fn=<MseLossBackward0>)\n",
      "82 tensor(50905.3438, grad_fn=<MseLossBackward0>)\n",
      "83 tensor(50900.8828, grad_fn=<MseLossBackward0>)\n",
      "84 tensor(50896.4180, grad_fn=<MseLossBackward0>)\n",
      "85 tensor(50891.9414, grad_fn=<MseLossBackward0>)\n",
      "86 tensor(50887.4844, grad_fn=<MseLossBackward0>)\n",
      "87 tensor(50883.0117, grad_fn=<MseLossBackward0>)\n",
      "88 tensor(50878.5508, grad_fn=<MseLossBackward0>)\n",
      "89 tensor(50874.0820, grad_fn=<MseLossBackward0>)\n",
      "90 tensor(50869.6250, grad_fn=<MseLossBackward0>)\n",
      "91 tensor(50865.1523, grad_fn=<MseLossBackward0>)\n",
      "92 tensor(50860.6875, grad_fn=<MseLossBackward0>)\n",
      "93 tensor(50856.2227, grad_fn=<MseLossBackward0>)\n",
      "94 tensor(50851.7578, grad_fn=<MseLossBackward0>)\n",
      "95 tensor(50847.3008, grad_fn=<MseLossBackward0>)\n",
      "96 tensor(50842.8281, grad_fn=<MseLossBackward0>)\n",
      "97 tensor(50838.3672, grad_fn=<MseLossBackward0>)\n",
      "98 tensor(50833.9062, grad_fn=<MseLossBackward0>)\n",
      "99 tensor(50829.4453, grad_fn=<MseLossBackward0>)\n"
     ]
    }
   ],
   "source": [
    "device = torch.device('cuda:0' if torch.cuda.is_available() else 'cpu')\n",
    "model = GCN().to(device)\n",
    "data = ssp_data.data.to(device)\n",
    "\n",
    "optimizer = torch.optim.Adam(model.parameters(), lr=0.01, weight_decay=5e-4)\n",
    "\n",
    "model.train()\n",
    "for epoch in range(100):\n",
    "    optimizer.zero_grad()\n",
    "    out = model(data)\n",
    "    loss = F.mse_loss(out, data.y)\n",
    "    print(epoch, loss)\n",
    "    loss.backward()\n",
    "    optimizer.step()"
   ]
  },
  {
   "cell_type": "code",
   "execution_count": null,
   "metadata": {},
   "outputs": [
    {
     "name": "stdout",
     "output_type": "stream",
     "text": [
      "MSE: 50824.9766\n"
     ]
    },
    {
     "name": "stderr",
     "output_type": "stream",
     "text": [
      "C:\\Users\\jqcla\\AppData\\Local\\Temp\\ipykernel_8980\\121057100.py:3: UserWarning: Using a target size (torch.Size([5000])) that is different to the input size (torch.Size([3, 5000])). This will likely lead to incorrect results due to broadcasting. Please ensure they have the same size.\n",
      "  mse = F.mse_loss(out, data.y)\n"
     ]
    }
   ],
   "source": [
    "model.eval()\n",
    "out = model(data)\n",
    "mse = F.mse_loss(out, data.y)\n",
    "print(f'MSE: {mse:.4f}')"
   ]
  },
  {
   "cell_type": "code",
   "execution_count": null,
   "metadata": {},
   "outputs": [],
   "source": []
  }
 ],
 "metadata": {
  "kernelspec": {
   "display_name": "Python 3",
   "language": "python",
   "name": "python3"
  },
  "language_info": {
   "codemirror_mode": {
    "name": "ipython",
    "version": 3
   },
   "file_extension": ".py",
   "mimetype": "text/x-python",
   "name": "python",
   "nbconvert_exporter": "python",
   "pygments_lexer": "ipython3",
   "version": "3.9.16"
  },
  "orig_nbformat": 4
 },
 "nbformat": 4,
 "nbformat_minor": 2
}
