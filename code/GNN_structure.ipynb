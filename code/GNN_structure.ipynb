{
 "cells": [
  {
   "cell_type": "code",
   "execution_count": 11,
   "metadata": {},
   "outputs": [],
   "source": [
    "import torch\n",
    "import torch_geometric\n",
    "import torch_geometric.transforms as T\n",
    "from glob import glob\n",
    "import xarray as xr\n",
    "import pandas as pd\n",
    "import matplotlib as plt\n",
    "import datetime"
   ]
  },
  {
   "cell_type": "code",
   "execution_count": 12,
   "metadata": {},
   "outputs": [
    {
     "data": {
      "text/plain": [
       "False"
      ]
     },
     "execution_count": 12,
     "metadata": {},
     "output_type": "execute_result"
    }
   ],
   "source": [
    "torch.cuda.is_available()"
   ]
  },
  {
   "cell_type": "code",
   "execution_count": 28,
   "metadata": {},
   "outputs": [],
   "source": [
    "class ssp_data():\n",
    "    def __init__(self, n=39) -> None:\n",
    "        self.n = n\n",
    "        self.raw = {}\n",
    "        self.init_edge_list(n)\n",
    "        self.y_file = 'data\\\\tas_scenario_245\\\\tas_mon_mod_ssp245_192_000.nc'\n",
    "        self.x_file_list = [item for item in glob('data\\\\tas_scenario_245\\\\tas_mon_mod_ssp245_192_*.nc') if item not in [self.y_file]][0 : self.n]\n",
    "        self.create_df()\n",
    "        # self.x_tensor = self.create_tensors(self.x).T\n",
    "        # self.y_tensor = self.create_tensors(self.y)\n",
    "        # self.data = torch_geometric.data.Data(x=self.x_tensor, edge_index=self.edge_index.t().contiguous(), y=self.y_tensor)\n",
    "        # self.split_data()\n",
    "        # self.mini_graphs()\n",
    "\n",
    "    def init_edge_list(self, n):\n",
    "        self.edge_index = []\n",
    "        for i in range(n):\n",
    "            for j in range(n):\n",
    "                if i != j:\n",
    "                    self.edge_index.append([i, j])\n",
    "        self.edge_index = torch.tensor(self.edge_index, dtype=torch.long)\n",
    "\n",
    "    def create_df(self):\n",
    "        self.x = pd.DataFrame()\n",
    "        i = 1\n",
    "        for filename in self.x_file_list:\n",
    "            print('Processing', filename)\n",
    "            self.x[f'model_{i}'] = self.create_vector(filename)\n",
    "            i += 1\n",
    "        \n",
    "        self.y = self.create_vector(self.y_file)\n",
    "\n",
    "    def create_vector(self, filename):\n",
    "        data = xr.open_dataset(filename)\n",
    "        df = data.to_dataframe().reset_index()\n",
    "        self.raw[filename] = df\n",
    "        df['date'] = pd.to_datetime(df['time'], errors='coerce')\n",
    "        tas_vector = df.loc[(df['date'].dt.year >= 1960) & (df['date'].dt.year <= 1970), 'tas']#['tas']#[0:5000]\n",
    "        # print(tas_vector)\n",
    "        return tas_vector\n",
    "    \n",
    "    def get_device(self):\n",
    "        if torch.cuda.is_available():\n",
    "            device = torch.device('cuda:0')\n",
    "        else:\n",
    "            device = torch.device('cpu') # don't have GPU \n",
    "        return device\n",
    "\n",
    "    def create_tensors(self, df):\n",
    "        device = self.get_device()\n",
    "        return torch.from_numpy(df.values).float().to(device)\n",
    "    \n",
    "    def mini_graphs(self):\n",
    "        df = self.x\n",
    "        df['x_tensor'] = df.apply(lambda row: torch.tensor(row.values.flatten()), axis=1)\n",
    "        df['y'] = self.y\n",
    "        df['y_tensor'] = df['y'].apply(lambda y: torch.tensor(y))\n",
    "        df['data_obj'] = df.apply(lambda row: torch_geometric.data.Data(x=df['x_tensor'], edge_index=self.edge_index.t().contiguous(), y=df['y_tensor']), axis=1)\n",
    "        self.batch_graphs = df['data_obj']\n",
    "    \n",
    "    def split_data(self):\n",
    "        transform = T.Compose([T.RandomNodeSplit(num_test=1000, num_val=1000)])\n",
    "        self.data = transform(self.data) \n"
   ]
  },
  {
   "cell_type": "code",
   "execution_count": 29,
   "metadata": {},
   "outputs": [
    {
     "name": "stdout",
     "output_type": "stream",
     "text": [
      "Processing data\\tas_scenario_245\\tas_mon_mod_ssp245_192_001.nc\n",
      "Processing data\\tas_scenario_245\\tas_mon_mod_ssp245_192_002.nc\n",
      "Processing data\\tas_scenario_245\\tas_mon_mod_ssp245_192_003.nc\n",
      "Processing data\\tas_scenario_245\\tas_mon_mod_ssp245_192_004.nc\n",
      "Processing data\\tas_scenario_245\\tas_mon_mod_ssp245_192_005.nc\n"
     ]
    }
   ],
   "source": [
    "ssp_data = ssp_data(n=2)"
   ]
  },
  {
   "cell_type": "code",
   "execution_count": 30,
   "metadata": {},
   "outputs": [
    {
     "data": {
      "text/plain": [
       "{'data\\\\tas_scenario_245\\\\tas_mon_mod_ssp245_192_001.nc':              lat      lon                time  height         tas  \\\n",
       " 0        -89.375    0.000 1850-01-16 12:00:00     2.0  243.845352   \n",
       " 1        -89.375    0.000 1850-02-15 00:00:00     2.0  235.352936   \n",
       " 2        -89.375    0.000 1850-03-16 12:00:00     2.0  223.914154   \n",
       " 3        -89.375    0.000 1850-04-16 00:00:00     2.0  220.158920   \n",
       " 4        -89.375    0.000 1850-05-16 12:00:00     2.0  217.610214   \n",
       " ...          ...      ...                 ...     ...         ...   \n",
       " 83275771  89.375  358.125 2100-08-16 12:00:00     2.0  271.679413   \n",
       " 83275772  89.375  358.125 2100-09-16 00:00:00     2.0  272.342682   \n",
       " 83275773  89.375  358.125 2100-10-16 12:00:00     2.0  272.067474   \n",
       " 83275774  89.375  358.125 2100-11-16 00:00:00     2.0  270.890015   \n",
       " 83275775  89.375  358.125 2100-12-16 12:00:00     2.0  265.080322   \n",
       " \n",
       "                         date  \n",
       " 0        1850-01-16 12:00:00  \n",
       " 1        1850-02-15 00:00:00  \n",
       " 2        1850-03-16 12:00:00  \n",
       " 3        1850-04-16 00:00:00  \n",
       " 4        1850-05-16 12:00:00  \n",
       " ...                      ...  \n",
       " 83275771 2100-08-16 12:00:00  \n",
       " 83275772 2100-09-16 00:00:00  \n",
       " 83275773 2100-10-16 12:00:00  \n",
       " 83275774 2100-11-16 00:00:00  \n",
       " 83275775 2100-12-16 12:00:00  \n",
       " \n",
       " [83275776 rows x 6 columns],\n",
       " 'data\\\\tas_scenario_245\\\\tas_mon_mod_ssp245_192_002.nc':              lat      lon                time  height         tas  \\\n",
       " 0        -89.375    0.000 1850-01-16 12:00:00     2.0  241.663177   \n",
       " 1        -89.375    0.000 1850-02-15 00:00:00     2.0  237.155045   \n",
       " 2        -89.375    0.000 1850-03-16 12:00:00     2.0  221.393326   \n",
       " 3        -89.375    0.000 1850-04-16 00:00:00     2.0  219.522736   \n",
       " 4        -89.375    0.000 1850-05-16 12:00:00     2.0  219.846024   \n",
       " ...          ...      ...                 ...     ...         ...   \n",
       " 83275771  89.375  358.125 2100-08-16 12:00:00     2.0  271.770599   \n",
       " 83275772  89.375  358.125 2100-09-16 00:00:00     2.0  271.609741   \n",
       " 83275773  89.375  358.125 2100-10-16 12:00:00     2.0  268.622742   \n",
       " 83275774  89.375  358.125 2100-11-16 00:00:00     2.0  264.184937   \n",
       " 83275775  89.375  358.125 2100-12-16 12:00:00     2.0  258.322937   \n",
       " \n",
       "                         date  \n",
       " 0        1850-01-16 12:00:00  \n",
       " 1        1850-02-15 00:00:00  \n",
       " 2        1850-03-16 12:00:00  \n",
       " 3        1850-04-16 00:00:00  \n",
       " 4        1850-05-16 12:00:00  \n",
       " ...                      ...  \n",
       " 83275771 2100-08-16 12:00:00  \n",
       " 83275772 2100-09-16 00:00:00  \n",
       " 83275773 2100-10-16 12:00:00  \n",
       " 83275774 2100-11-16 00:00:00  \n",
       " 83275775 2100-12-16 12:00:00  \n",
       " \n",
       " [83275776 rows x 6 columns],\n",
       " 'data\\\\tas_scenario_245\\\\tas_mon_mod_ssp245_192_003.nc':              lat      lon                 time  height         tas date\n",
       " 0        -89.375    0.000  1850-01-16 12:00:00     2.0  247.514557  NaT\n",
       " 1        -89.375    0.000  1850-02-15 00:00:00     2.0  234.131439  NaT\n",
       " 2        -89.375    0.000  1850-03-16 12:00:00     2.0  226.548035  NaT\n",
       " 3        -89.375    0.000  1850-04-16 00:00:00     2.0  221.013245  NaT\n",
       " 4        -89.375    0.000  1850-05-16 12:00:00     2.0  221.131561  NaT\n",
       " ...          ...      ...                  ...     ...         ...  ...\n",
       " 83275771  89.375  358.125  2100-08-16 12:00:00     2.0  272.259888  NaT\n",
       " 83275772  89.375  358.125  2100-09-16 00:00:00     2.0  270.057831  NaT\n",
       " 83275773  89.375  358.125  2100-10-16 12:00:00     2.0  265.354126  NaT\n",
       " 83275774  89.375  358.125  2100-11-16 00:00:00     2.0  258.569672  NaT\n",
       " 83275775  89.375  358.125  2100-12-16 12:00:00     2.0  252.682922  NaT\n",
       " \n",
       " [83275776 rows x 6 columns],\n",
       " 'data\\\\tas_scenario_245\\\\tas_mon_mod_ssp245_192_004.nc':              lat      lon                 time  height         tas date\n",
       " 0        -89.375    0.000  1850-01-16 12:00:00     2.0  266.520416  NaT\n",
       " 1        -89.375    0.000  1850-02-15 00:00:00     2.0  249.452484  NaT\n",
       " 2        -89.375    0.000  1850-03-16 12:00:00     2.0  226.723404  NaT\n",
       " 3        -89.375    0.000  1850-04-16 00:00:00     2.0  216.155762  NaT\n",
       " 4        -89.375    0.000  1850-05-16 12:00:00     2.0  218.918213  NaT\n",
       " ...          ...      ...                  ...     ...         ...  ...\n",
       " 83275771  89.375  358.125  2100-08-16 12:00:00     2.0         NaN  NaT\n",
       " 83275772  89.375  358.125  2100-09-16 00:00:00     2.0         NaN  NaT\n",
       " 83275773  89.375  358.125  2100-10-16 12:00:00     2.0         NaN  NaT\n",
       " 83275774  89.375  358.125  2100-11-16 00:00:00     2.0         NaN  NaT\n",
       " 83275775  89.375  358.125  2100-12-16 12:00:00     2.0         NaN  NaT\n",
       " \n",
       " [83275776 rows x 6 columns],\n",
       " 'data\\\\tas_scenario_245\\\\tas_mon_mod_ssp245_192_005.nc':              lat      lon                 time  height         tas date\n",
       " 0        -89.375    0.000  1850-01-16 12:00:00     2.0  248.024368  NaT\n",
       " 1        -89.375    0.000  1850-02-15 00:00:00     2.0  234.911209  NaT\n",
       " 2        -89.375    0.000  1850-03-16 12:00:00     2.0  225.419739  NaT\n",
       " 3        -89.375    0.000  1850-04-16 00:00:00     2.0  222.219223  NaT\n",
       " 4        -89.375    0.000  1850-05-16 12:00:00     2.0  220.510513  NaT\n",
       " ...          ...      ...                  ...     ...         ...  ...\n",
       " 83275771  89.375  358.125  2100-08-16 12:00:00     2.0  275.080566  NaT\n",
       " 83275772  89.375  358.125  2100-09-16 00:00:00     2.0  274.403229  NaT\n",
       " 83275773  89.375  358.125  2100-10-16 12:00:00     2.0  273.010773  NaT\n",
       " 83275774  89.375  358.125  2100-11-16 00:00:00     2.0  271.741760  NaT\n",
       " 83275775  89.375  358.125  2100-12-16 12:00:00     2.0  270.150513  NaT\n",
       " \n",
       " [83275776 rows x 6 columns],\n",
       " 'data\\\\tas_scenario_245\\\\tas_mon_mod_ssp245_192_000.nc':              lat      lon                time  height         tas  \\\n",
       " 0        -89.375    0.000 1850-01-16 12:00:00     2.0  252.504318   \n",
       " 1        -89.375    0.000 1850-02-15 00:00:00     2.0  236.253250   \n",
       " 2        -89.375    0.000 1850-03-16 12:00:00     2.0  217.723312   \n",
       " 3        -89.375    0.000 1850-04-16 00:00:00     2.0  213.946365   \n",
       " 4        -89.375    0.000 1850-05-16 12:00:00     2.0  210.434448   \n",
       " ...          ...      ...                 ...     ...         ...   \n",
       " 83275771  89.375  358.125 2100-08-16 12:00:00     2.0  274.949463   \n",
       " 83275772  89.375  358.125 2100-09-16 00:00:00     2.0  274.228302   \n",
       " 83275773  89.375  358.125 2100-10-16 12:00:00     2.0  272.529755   \n",
       " 83275774  89.375  358.125 2100-11-16 00:00:00     2.0  271.059570   \n",
       " 83275775  89.375  358.125 2100-12-16 12:00:00     2.0  265.202423   \n",
       " \n",
       "                         date  \n",
       " 0        1850-01-16 12:00:00  \n",
       " 1        1850-02-15 00:00:00  \n",
       " 2        1850-03-16 12:00:00  \n",
       " 3        1850-04-16 00:00:00  \n",
       " 4        1850-05-16 12:00:00  \n",
       " ...                      ...  \n",
       " 83275771 2100-08-16 12:00:00  \n",
       " 83275772 2100-09-16 00:00:00  \n",
       " 83275773 2100-10-16 12:00:00  \n",
       " 83275774 2100-11-16 00:00:00  \n",
       " 83275775 2100-12-16 12:00:00  \n",
       " \n",
       " [83275776 rows x 6 columns]}"
      ]
     },
     "execution_count": 30,
     "metadata": {},
     "output_type": "execute_result"
    }
   ],
   "source": [
    "ssp_data.raw"
   ]
  },
  {
   "cell_type": "code",
   "execution_count": 26,
   "metadata": {},
   "outputs": [
    {
     "data": {
      "text/plain": [
       "<Axes: >"
      ]
     },
     "execution_count": 26,
     "metadata": {},
     "output_type": "execute_result"
    },
    {
     "data": {
      "image/png": "[encoded data removed]",
      "text/plain": [
       "<Figure size 640x480 with 1 Axes>"
      ]
     },
     "metadata": {},
     "output_type": "display_data"
    }
   ],
   "source": [
    "ssp_data.x.plot()"
   ]
  },
  {
   "cell_type": "code",
   "execution_count": 85,
   "metadata": {},
   "outputs": [
    {
     "data": {
      "text/plain": [
       "True"
      ]
     },
     "execution_count": 85,
     "metadata": {},
     "output_type": "execute_result"
    }
   ],
   "source": [
    "ssp_data.data.validate()"
   ]
  },
  {
   "cell_type": "code",
   "execution_count": 86,
   "metadata": {},
   "outputs": [
    {
     "data": {
      "text/plain": [
       "Data(x=[39, 5000], edge_index=[2, 1482], y=[5000], train_mask=[39], val_mask=[39], test_mask=[39])"
      ]
     },
     "execution_count": 86,
     "metadata": {},
     "output_type": "execute_result"
    }
   ],
   "source": [
    "ssp_data.data"
   ]
  },
  {
   "cell_type": "code",
   "execution_count": 87,
   "metadata": {},
   "outputs": [
    {
     "data": {
      "text/plain": [
       "5000"
      ]
     },
     "execution_count": 87,
     "metadata": {},
     "output_type": "execute_result"
    }
   ],
   "source": [
    "ssp_data.data.num_node_features"
   ]
  },
  {
   "cell_type": "code",
   "execution_count": 88,
   "metadata": {},
   "outputs": [],
   "source": [
    "import torch.nn.functional as F\n",
    "from torch_geometric.nn import GCNConv\n",
    "import torch\n",
    "\n",
    "class GCN(torch.nn.Module):\n",
    "    def __init__(self):\n",
    "        super().__init__()\n",
    "        # self.edge_weight = torch.nn.Parameter(torch.ones(ssp_data.data.num_edges))\n",
    "        self.conv1 = GCNConv(ssp_data.data.num_node_features, 16)\n",
    "        self.conv2 = GCNConv(16, 5000)\n",
    "\n",
    "    def forward(self, data):\n",
    "        x, edge_index = data.x, data.edge_index\n",
    "\n",
    "        x = self.conv1(x, edge_index)#, torch.minimum(self.edge_weight.abs(),torch.ones(data.num_edges)))\n",
    "        x = F.relu(x)\n",
    "        x = F.dropout(x, training=self.training)\n",
    "        # print(x, edge_index, torch.minimum(self.edge_weight.abs(),torch.ones(data.num_edges)))\n",
    "        x = self.conv2(x, edge_index)#, torch.minimum(self.edge_weight.abs(),torch.ones(data.num_edges)))\n",
    "\n",
    "        return x\n"
   ]
  },
  {
   "cell_type": "code",
   "execution_count": 89,
   "metadata": {},
   "outputs": [
    {
     "name": "stderr",
     "output_type": "stream",
     "text": [
      "C:\\Users\\jqcla\\AppData\\Local\\Temp\\ipykernel_8980\\3691684479.py:11: UserWarning: Using a target size (torch.Size([5000])) that is different to the input size (torch.Size([39, 5000])). This will likely lead to incorrect results due to broadcasting. Please ensure they have the same size.\n",
      "  loss = F.mse_loss(out, data.y)\n"
     ]
    },
    {
     "name": "stdout",
     "output_type": "stream",
     "text": [
      "0 tensor(nan, grad_fn=<MseLossBackward0>)\n",
      "1 tensor(nan, grad_fn=<MseLossBackward0>)\n",
      "2 tensor(nan, grad_fn=<MseLossBackward0>)\n",
      "3 tensor(nan, grad_fn=<MseLossBackward0>)\n",
      "4 tensor(nan, grad_fn=<MseLossBackward0>)\n",
      "5 tensor(nan, grad_fn=<MseLossBackward0>)\n",
      "6 tensor(nan, grad_fn=<MseLossBackward0>)\n",
      "7 tensor(nan, grad_fn=<MseLossBackward0>)\n",
      "8 tensor(nan, grad_fn=<MseLossBackward0>)\n",
      "9 tensor(nan, grad_fn=<MseLossBackward0>)\n",
      "10 tensor(nan, grad_fn=<MseLossBackward0>)\n",
      "11 tensor(nan, grad_fn=<MseLossBackward0>)\n",
      "12 tensor(nan, grad_fn=<MseLossBackward0>)\n",
      "13 tensor(nan, grad_fn=<MseLossBackward0>)\n",
      "14 tensor(nan, grad_fn=<MseLossBackward0>)\n",
      "15 tensor(nan, grad_fn=<MseLossBackward0>)\n",
      "16 tensor(nan, grad_fn=<MseLossBackward0>)\n",
      "17 tensor(nan, grad_fn=<MseLossBackward0>)\n",
      "18 tensor(nan, grad_fn=<MseLossBackward0>)\n",
      "19 tensor(nan, grad_fn=<MseLossBackward0>)\n",
      "20 tensor(nan, grad_fn=<MseLossBackward0>)\n",
      "21 tensor(nan, grad_fn=<MseLossBackward0>)\n",
      "22 tensor(nan, grad_fn=<MseLossBackward0>)\n",
      "23 tensor(nan, grad_fn=<MseLossBackward0>)\n",
      "24 tensor(nan, grad_fn=<MseLossBackward0>)\n",
      "25 tensor(nan, grad_fn=<MseLossBackward0>)\n",
      "26 tensor(nan, grad_fn=<MseLossBackward0>)\n",
      "27 tensor(nan, grad_fn=<MseLossBackward0>)\n",
      "28 tensor(nan, grad_fn=<MseLossBackward0>)\n",
      "29 tensor(nan, grad_fn=<MseLossBackward0>)\n",
      "30 tensor(nan, grad_fn=<MseLossBackward0>)\n",
      "31 tensor(nan, grad_fn=<MseLossBackward0>)\n",
      "32 tensor(nan, grad_fn=<MseLossBackward0>)\n",
      "33 tensor(nan, grad_fn=<MseLossBackward0>)\n",
      "34 tensor(nan, grad_fn=<MseLossBackward0>)\n",
      "35 tensor(nan, grad_fn=<MseLossBackward0>)\n",
      "36 tensor(nan, grad_fn=<MseLossBackward0>)\n",
      "37 tensor(nan, grad_fn=<MseLossBackward0>)\n",
      "38 tensor(nan, grad_fn=<MseLossBackward0>)\n",
      "39 tensor(nan, grad_fn=<MseLossBackward0>)\n",
      "40 tensor(nan, grad_fn=<MseLossBackward0>)\n",
      "41 tensor(nan, grad_fn=<MseLossBackward0>)\n",
      "42 tensor(nan, grad_fn=<MseLossBackward0>)\n",
      "43 tensor(nan, grad_fn=<MseLossBackward0>)\n",
      "44 tensor(nan, grad_fn=<MseLossBackward0>)\n",
      "45 tensor(nan, grad_fn=<MseLossBackward0>)\n",
      "46 tensor(nan, grad_fn=<MseLossBackward0>)\n",
      "47 tensor(nan, grad_fn=<MseLossBackward0>)\n",
      "48 tensor(nan, grad_fn=<MseLossBackward0>)\n",
      "49 tensor(nan, grad_fn=<MseLossBackward0>)\n",
      "50 tensor(nan, grad_fn=<MseLossBackward0>)\n",
      "51 tensor(nan, grad_fn=<MseLossBackward0>)\n",
      "52 tensor(nan, grad_fn=<MseLossBackward0>)\n",
      "53 tensor(nan, grad_fn=<MseLossBackward0>)\n",
      "54 tensor(nan, grad_fn=<MseLossBackward0>)\n",
      "55 tensor(nan, grad_fn=<MseLossBackward0>)\n",
      "56 tensor(nan, grad_fn=<MseLossBackward0>)\n",
      "57 tensor(nan, grad_fn=<MseLossBackward0>)\n",
      "58 tensor(nan, grad_fn=<MseLossBackward0>)\n",
      "59 tensor(nan, grad_fn=<MseLossBackward0>)\n",
      "60 tensor(nan, grad_fn=<MseLossBackward0>)\n",
      "61 tensor(nan, grad_fn=<MseLossBackward0>)\n",
      "62 tensor(nan, grad_fn=<MseLossBackward0>)\n",
      "63 tensor(nan, grad_fn=<MseLossBackward0>)\n",
      "64 tensor(nan, grad_fn=<MseLossBackward0>)\n",
      "65 tensor(nan, grad_fn=<MseLossBackward0>)\n",
      "66 tensor(nan, grad_fn=<MseLossBackward0>)\n",
      "67 tensor(nan, grad_fn=<MseLossBackward0>)\n",
      "68 tensor(nan, grad_fn=<MseLossBackward0>)\n",
      "69 tensor(nan, grad_fn=<MseLossBackward0>)\n",
      "70 tensor(nan, grad_fn=<MseLossBackward0>)\n",
      "71 tensor(nan, grad_fn=<MseLossBackward0>)\n",
      "72 tensor(nan, grad_fn=<MseLossBackward0>)\n",
      "73 tensor(nan, grad_fn=<MseLossBackward0>)\n",
      "74 tensor(nan, grad_fn=<MseLossBackward0>)\n",
      "75 tensor(nan, grad_fn=<MseLossBackward0>)\n",
      "76 tensor(nan, grad_fn=<MseLossBackward0>)\n",
      "77 tensor(nan, grad_fn=<MseLossBackward0>)\n",
      "78 tensor(nan, grad_fn=<MseLossBackward0>)\n",
      "79 tensor(nan, grad_fn=<MseLossBackward0>)\n",
      "80 tensor(nan, grad_fn=<MseLossBackward0>)\n",
      "81 tensor(nan, grad_fn=<MseLossBackward0>)\n",
      "82 tensor(nan, grad_fn=<MseLossBackward0>)\n",
      "83 tensor(nan, grad_fn=<MseLossBackward0>)\n",
      "84 tensor(nan, grad_fn=<MseLossBackward0>)\n",
      "85 tensor(nan, grad_fn=<MseLossBackward0>)\n",
      "86 tensor(nan, grad_fn=<MseLossBackward0>)\n",
      "87 tensor(nan, grad_fn=<MseLossBackward0>)\n",
      "88 tensor(nan, grad_fn=<MseLossBackward0>)\n",
      "89 tensor(nan, grad_fn=<MseLossBackward0>)\n",
      "90 tensor(nan, grad_fn=<MseLossBackward0>)\n",
      "91 tensor(nan, grad_fn=<MseLossBackward0>)\n",
      "92 tensor(nan, grad_fn=<MseLossBackward0>)\n",
      "93 tensor(nan, grad_fn=<MseLossBackward0>)\n",
      "94 tensor(nan, grad_fn=<MseLossBackward0>)\n",
      "95 tensor(nan, grad_fn=<MseLossBackward0>)\n",
      "96 tensor(nan, grad_fn=<MseLossBackward0>)\n",
      "97 tensor(nan, grad_fn=<MseLossBackward0>)\n",
      "98 tensor(nan, grad_fn=<MseLossBackward0>)\n",
      "99 tensor(nan, grad_fn=<MseLossBackward0>)\n"
     ]
    }
   ],
   "source": [
    "device = torch.device('cuda:0' if torch.cuda.is_available() else 'cpu')\n",
    "model = GCN().to(device)\n",
    "data = ssp_data.data.to(device)\n",
    "\n",
    "optimizer = torch.optim.Adam(model.parameters(), lr=0.01, weight_decay=5e-4)\n",
    "\n",
    "model.train()\n",
    "for epoch in range(100):\n",
    "    optimizer.zero_grad()\n",
    "    out = model(data)\n",
    "    loss = F.mse_loss(out, data.y)\n",
    "    print(epoch, loss)\n",
    "    loss.backward()\n",
    "    optimizer.step()"
   ]
  },
  {
   "cell_type": "code",
   "execution_count": 90,
   "metadata": {},
   "outputs": [
    {
     "name": "stdout",
     "output_type": "stream",
     "text": [
      "MSE: nan\n"
     ]
    },
    {
     "name": "stderr",
     "output_type": "stream",
     "text": [
      "C:\\Users\\jqcla\\AppData\\Local\\Temp\\ipykernel_8980\\121057100.py:3: UserWarning: Using a target size (torch.Size([5000])) that is different to the input size (torch.Size([39, 5000])). This will likely lead to incorrect results due to broadcasting. Please ensure they have the same size.\n",
      "  mse = F.mse_loss(out, data.y)\n"
     ]
    }
   ],
   "source": [
    "model.eval()\n",
    "out = model(data)\n",
    "mse = F.mse_loss(out, data.y)\n",
    "print(f'MSE: {mse:.4f}')"
   ]
  },
  {
   "cell_type": "code",
   "execution_count": 92,
   "metadata": {},
   "outputs": [
    {
     "data": {
      "text/plain": [
       "<bound method Module.__dir__ of GCN(\n",
       "  (conv1): GCNConv(5000, 16)\n",
       "  (conv2): GCNConv(16, 5000)\n",
       ")>"
      ]
     },
     "execution_count": 92,
     "metadata": {},
     "output_type": "execute_result"
    }
   ],
   "source": [
    "model.__dir__"
   ]
  },
  {
   "cell_type": "code",
   "execution_count": null,
   "metadata": {},
   "outputs": [],
   "source": []
  }
 ],
 "metadata": {
  "kernelspec": {
   "display_name": "Python 3",
   "language": "python",
   "name": "python3"
  },
  "language_info": {
   "codemirror_mode": {
    "name": "ipython",
    "version": 3
   },
   "file_extension": ".py",
   "mimetype": "text/x-python",
   "name": "python",
   "nbconvert_exporter": "python",
   "pygments_lexer": "ipython3",
   "version": "3.9.16"
  },
  "orig_nbformat": 4
 },
 "nbformat": 4,
 "nbformat_minor": 2
}
