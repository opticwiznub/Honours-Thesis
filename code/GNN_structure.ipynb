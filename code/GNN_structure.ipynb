{
 "cells": [
  {
   "cell_type": "code",
   "execution_count": 1,
   "metadata": {},
   "outputs": [],
   "source": [
    "import torch\n",
    "import torch_geometric\n",
    "import torch_geometric.transforms as T\n",
    "from glob import glob\n",
    "import xarray as xr\n",
    "import pandas as pd\n",
    "import matplotlib as plt"
   ]
  },
  {
   "cell_type": "code",
   "execution_count": 2,
   "metadata": {},
   "outputs": [
    {
     "data": {
      "text/plain": [
       "False"
      ]
     },
     "execution_count": 2,
     "metadata": {},
     "output_type": "execute_result"
    }
   ],
   "source": [
    "torch.cuda.is_available()"
   ]
  },
  {
   "cell_type": "code",
   "execution_count": 3,
   "metadata": {},
   "outputs": [],
   "source": [
    "class ssp_data():\n",
    "    def __init__(self, n=39) -> None:\n",
    "        self.n = n\n",
    "        self.raw = {}\n",
    "        # self.raw_df = {}\n",
    "        self.init_edge_list(n)\n",
    "        self.y_file = 'data\\\\tas_scenario_245\\\\tas_mon_mod_ssp245_192_000.nc'\n",
    "        self.x_file_list = [item for item in glob('data\\\\tas_scenario_245\\\\tas_mon_mod_ssp245_192_*.nc') if item not in [self.y_file]][0 : self.n]\n",
    "        self.create_df()\n",
    "        self.x_tensor = self.create_tensors(self.x).T\n",
    "        self.y_tensor = self.create_tensors(self.y)\n",
    "        self.data = torch_geometric.data.Data(x=self.x_tensor, edge_index=self.edge_index.t().contiguous(), y=self.y_tensor)\n",
    "        # self.split_data()\n",
    "        # self.mini_graphs()\n",
    "\n",
    "    def init_edge_list(self, n):\n",
    "        self.edge_index = []\n",
    "        for i in range(n):\n",
    "            for j in range(n):\n",
    "                if i != j:\n",
    "                    self.edge_index.append([i, j])\n",
    "        self.edge_index = torch.tensor(self.edge_index, dtype=torch.long)\n",
    "\n",
    "    def create_df(self):\n",
    "        self.x = pd.DataFrame()\n",
    "        i = 1\n",
    "        for filename in self.x_file_list:\n",
    "            print('Processing', filename)\n",
    "            self.x[f'model_{i}'] = self.create_vector(filename)\n",
    "            i += 1\n",
    "        \n",
    "        self.y = self.create_vector(self.y_file)\n",
    "\n",
    "    def create_vector(self, filename):\n",
    "        data = xr.open_dataset(filename)\n",
    "        self.raw[filename] = data\n",
    "        df = self.raw[filename].to_dataframe().reset_index()\n",
    "        # self.raw_df[filename] = df\n",
    "        df['date'] = pd.to_datetime(df['time'], errors='coerce')\n",
    "        tas_vector = df.loc[(df['date'].dt.year >= 1960) & (df['date'].dt.year <= 1970), 'tas']#['tas']#[0:5000]\n",
    "        # print(tas_vector)\n",
    "        return tas_vector\n",
    "    \n",
    "    def get_device(self):\n",
    "        if torch.cuda.is_available():\n",
    "            device = torch.device('cuda:0')\n",
    "        else:\n",
    "            device = torch.device('cpu') # don't have GPU \n",
    "        return device\n",
    "\n",
    "    def create_tensors(self, df):\n",
    "        device = self.get_device()\n",
    "        return torch.from_numpy(df.values).float().to(device)\n",
    "    \n",
    "    def mini_graphs(self):\n",
    "        df = self.x\n",
    "        df['x_tensor'] = df.apply(lambda row: torch.tensor(row.values.flatten()), axis=1)\n",
    "        df['y'] = self.y\n",
    "        df['y_tensor'] = df['y'].apply(lambda y: torch.tensor(y))\n",
    "        df['data_obj'] = df.apply(lambda row: torch_geometric.data.Data(x=df['x_tensor'], edge_index=self.edge_index.t().contiguous(), y=df['y_tensor']), axis=1)\n",
    "        self.batch_graphs = df['data_obj']\n",
    "    \n",
    "    def split_data(self):\n",
    "        transform = T.Compose([T.RandomNodeSplit(num_test=1000, num_val=1000)])\n",
    "        self.data = transform(self.data) \n"
   ]
  },
  {
   "cell_type": "code",
   "execution_count": 4,
   "metadata": {},
   "outputs": [
    {
     "name": "stdout",
     "output_type": "stream",
     "text": [
      "Processing data\\tas_scenario_245\\tas_mon_mod_ssp245_192_001.nc\n",
      "Processing data\\tas_scenario_245\\tas_mon_mod_ssp245_192_002.nc\n",
      "Processing data\\tas_scenario_245\\tas_mon_mod_ssp245_192_003.nc\n",
      "Processing data\\tas_scenario_245\\tas_mon_mod_ssp245_192_004.nc\n",
      "Processing data\\tas_scenario_245\\tas_mon_mod_ssp245_192_005.nc\n",
      "Processing data\\tas_scenario_245\\tas_mon_mod_ssp245_192_006.nc\n",
      "Processing data\\tas_scenario_245\\tas_mon_mod_ssp245_192_007.nc\n",
      "Processing data\\tas_scenario_245\\tas_mon_mod_ssp245_192_008.nc\n",
      "Processing data\\tas_scenario_245\\tas_mon_mod_ssp245_192_009.nc\n",
      "Processing data\\tas_scenario_245\\tas_mon_mod_ssp245_192_010.nc\n"
     ]
    }
   ],
   "source": [
    "ssp_data = ssp_data(n=10)"
   ]
  },
  {
   "cell_type": "code",
   "execution_count": 13,
   "metadata": {},
   "outputs": [
    {
     "data": {
      "text/html": [
       "<div>\n",
       "<style scoped>\n",
       "    .dataframe tbody tr th:only-of-type {\n",
       "        vertical-align: middle;\n",
       "    }\n",
       "\n",
       "    .dataframe tbody tr th {\n",
       "        vertical-align: top;\n",
       "    }\n",
       "\n",
       "    .dataframe thead th {\n",
       "        text-align: right;\n",
       "    }\n",
       "</style>\n",
       "<table border=\"1\" class=\"dataframe\">\n",
       "  <thead>\n",
       "    <tr style=\"text-align: right;\">\n",
       "      <th></th>\n",
       "      <th>lat</th>\n",
       "      <th>lon</th>\n",
       "      <th>time</th>\n",
       "      <th>height</th>\n",
       "      <th>tas</th>\n",
       "    </tr>\n",
       "  </thead>\n",
       "  <tbody>\n",
       "    <tr>\n",
       "      <th>0</th>\n",
       "      <td>-89.375</td>\n",
       "      <td>0.000</td>\n",
       "      <td>1850-01-16 12:00:00</td>\n",
       "      <td>2.0</td>\n",
       "      <td>266.520416</td>\n",
       "    </tr>\n",
       "    <tr>\n",
       "      <th>1</th>\n",
       "      <td>-89.375</td>\n",
       "      <td>0.000</td>\n",
       "      <td>1850-02-15 00:00:00</td>\n",
       "      <td>2.0</td>\n",
       "      <td>249.452484</td>\n",
       "    </tr>\n",
       "    <tr>\n",
       "      <th>2</th>\n",
       "      <td>-89.375</td>\n",
       "      <td>0.000</td>\n",
       "      <td>1850-03-16 12:00:00</td>\n",
       "      <td>2.0</td>\n",
       "      <td>226.723404</td>\n",
       "    </tr>\n",
       "    <tr>\n",
       "      <th>3</th>\n",
       "      <td>-89.375</td>\n",
       "      <td>0.000</td>\n",
       "      <td>1850-04-16 00:00:00</td>\n",
       "      <td>2.0</td>\n",
       "      <td>216.155762</td>\n",
       "    </tr>\n",
       "    <tr>\n",
       "      <th>4</th>\n",
       "      <td>-89.375</td>\n",
       "      <td>0.000</td>\n",
       "      <td>1850-05-16 12:00:00</td>\n",
       "      <td>2.0</td>\n",
       "      <td>218.918213</td>\n",
       "    </tr>\n",
       "    <tr>\n",
       "      <th>...</th>\n",
       "      <td>...</td>\n",
       "      <td>...</td>\n",
       "      <td>...</td>\n",
       "      <td>...</td>\n",
       "      <td>...</td>\n",
       "    </tr>\n",
       "    <tr>\n",
       "      <th>83275771</th>\n",
       "      <td>89.375</td>\n",
       "      <td>358.125</td>\n",
       "      <td>2100-08-16 12:00:00</td>\n",
       "      <td>2.0</td>\n",
       "      <td>NaN</td>\n",
       "    </tr>\n",
       "    <tr>\n",
       "      <th>83275772</th>\n",
       "      <td>89.375</td>\n",
       "      <td>358.125</td>\n",
       "      <td>2100-09-16 00:00:00</td>\n",
       "      <td>2.0</td>\n",
       "      <td>NaN</td>\n",
       "    </tr>\n",
       "    <tr>\n",
       "      <th>83275773</th>\n",
       "      <td>89.375</td>\n",
       "      <td>358.125</td>\n",
       "      <td>2100-10-16 12:00:00</td>\n",
       "      <td>2.0</td>\n",
       "      <td>NaN</td>\n",
       "    </tr>\n",
       "    <tr>\n",
       "      <th>83275774</th>\n",
       "      <td>89.375</td>\n",
       "      <td>358.125</td>\n",
       "      <td>2100-11-16 00:00:00</td>\n",
       "      <td>2.0</td>\n",
       "      <td>NaN</td>\n",
       "    </tr>\n",
       "    <tr>\n",
       "      <th>83275775</th>\n",
       "      <td>89.375</td>\n",
       "      <td>358.125</td>\n",
       "      <td>2100-12-16 12:00:00</td>\n",
       "      <td>2.0</td>\n",
       "      <td>NaN</td>\n",
       "    </tr>\n",
       "  </tbody>\n",
       "</table>\n",
       "<p>83275776 rows × 5 columns</p>\n",
       "</div>"
      ],
      "text/plain": [
       "             lat      lon                 time  height         tas\n",
       "0        -89.375    0.000  1850-01-16 12:00:00     2.0  266.520416\n",
       "1        -89.375    0.000  1850-02-15 00:00:00     2.0  249.452484\n",
       "2        -89.375    0.000  1850-03-16 12:00:00     2.0  226.723404\n",
       "3        -89.375    0.000  1850-04-16 00:00:00     2.0  216.155762\n",
       "4        -89.375    0.000  1850-05-16 12:00:00     2.0  218.918213\n",
       "...          ...      ...                  ...     ...         ...\n",
       "83275771  89.375  358.125  2100-08-16 12:00:00     2.0         NaN\n",
       "83275772  89.375  358.125  2100-09-16 00:00:00     2.0         NaN\n",
       "83275773  89.375  358.125  2100-10-16 12:00:00     2.0         NaN\n",
       "83275774  89.375  358.125  2100-11-16 00:00:00     2.0         NaN\n",
       "83275775  89.375  358.125  2100-12-16 12:00:00     2.0         NaN\n",
       "\n",
       "[83275776 rows x 5 columns]"
      ]
     },
     "execution_count": 13,
     "metadata": {},
     "output_type": "execute_result"
    }
   ],
   "source": [
    "ssp_data.raw['data\\\\tas_scenario_245\\\\tas_mon_mod_ssp245_192_004.nc'].to_dataframe().reset_index()"
   ]
  },
  {
   "cell_type": "code",
   "execution_count": 5,
   "metadata": {},
   "outputs": [
    {
     "data": {
      "text/html": [
       "<div>\n",
       "<style scoped>\n",
       "    .dataframe tbody tr th:only-of-type {\n",
       "        vertical-align: middle;\n",
       "    }\n",
       "\n",
       "    .dataframe tbody tr th {\n",
       "        vertical-align: top;\n",
       "    }\n",
       "\n",
       "    .dataframe thead th {\n",
       "        text-align: right;\n",
       "    }\n",
       "</style>\n",
       "<table border=\"1\" class=\"dataframe\">\n",
       "  <thead>\n",
       "    <tr style=\"text-align: right;\">\n",
       "      <th></th>\n",
       "      <th>model_1</th>\n",
       "      <th>model_2</th>\n",
       "      <th>model_3</th>\n",
       "      <th>model_4</th>\n",
       "      <th>model_5</th>\n",
       "      <th>model_6</th>\n",
       "      <th>model_7</th>\n",
       "      <th>model_8</th>\n",
       "      <th>model_9</th>\n",
       "      <th>model_10</th>\n",
       "    </tr>\n",
       "  </thead>\n",
       "  <tbody>\n",
       "    <tr>\n",
       "      <th>1320</th>\n",
       "      <td>244.006454</td>\n",
       "      <td>243.089874</td>\n",
       "      <td>NaN</td>\n",
       "      <td>NaN</td>\n",
       "      <td>NaN</td>\n",
       "      <td>NaN</td>\n",
       "      <td>NaN</td>\n",
       "      <td>NaN</td>\n",
       "      <td>NaN</td>\n",
       "      <td>NaN</td>\n",
       "    </tr>\n",
       "    <tr>\n",
       "      <th>1321</th>\n",
       "      <td>234.312881</td>\n",
       "      <td>237.254745</td>\n",
       "      <td>NaN</td>\n",
       "      <td>NaN</td>\n",
       "      <td>NaN</td>\n",
       "      <td>NaN</td>\n",
       "      <td>NaN</td>\n",
       "      <td>NaN</td>\n",
       "      <td>NaN</td>\n",
       "      <td>NaN</td>\n",
       "    </tr>\n",
       "    <tr>\n",
       "      <th>1322</th>\n",
       "      <td>225.245163</td>\n",
       "      <td>227.119858</td>\n",
       "      <td>NaN</td>\n",
       "      <td>NaN</td>\n",
       "      <td>NaN</td>\n",
       "      <td>NaN</td>\n",
       "      <td>NaN</td>\n",
       "      <td>NaN</td>\n",
       "      <td>NaN</td>\n",
       "      <td>NaN</td>\n",
       "    </tr>\n",
       "    <tr>\n",
       "      <th>1323</th>\n",
       "      <td>219.391617</td>\n",
       "      <td>219.860703</td>\n",
       "      <td>NaN</td>\n",
       "      <td>NaN</td>\n",
       "      <td>NaN</td>\n",
       "      <td>NaN</td>\n",
       "      <td>NaN</td>\n",
       "      <td>NaN</td>\n",
       "      <td>NaN</td>\n",
       "      <td>NaN</td>\n",
       "    </tr>\n",
       "    <tr>\n",
       "      <th>1324</th>\n",
       "      <td>218.518707</td>\n",
       "      <td>218.428314</td>\n",
       "      <td>NaN</td>\n",
       "      <td>NaN</td>\n",
       "      <td>NaN</td>\n",
       "      <td>NaN</td>\n",
       "      <td>NaN</td>\n",
       "      <td>NaN</td>\n",
       "      <td>NaN</td>\n",
       "      <td>NaN</td>\n",
       "    </tr>\n",
       "    <tr>\n",
       "      <th>...</th>\n",
       "      <td>...</td>\n",
       "      <td>...</td>\n",
       "      <td>...</td>\n",
       "      <td>...</td>\n",
       "      <td>...</td>\n",
       "      <td>...</td>\n",
       "      <td>...</td>\n",
       "      <td>...</td>\n",
       "      <td>...</td>\n",
       "      <td>...</td>\n",
       "    </tr>\n",
       "    <tr>\n",
       "      <th>83274211</th>\n",
       "      <td>271.173004</td>\n",
       "      <td>271.253479</td>\n",
       "      <td>NaN</td>\n",
       "      <td>NaN</td>\n",
       "      <td>NaN</td>\n",
       "      <td>NaN</td>\n",
       "      <td>NaN</td>\n",
       "      <td>NaN</td>\n",
       "      <td>NaN</td>\n",
       "      <td>NaN</td>\n",
       "    </tr>\n",
       "    <tr>\n",
       "      <th>83274212</th>\n",
       "      <td>259.204193</td>\n",
       "      <td>265.443420</td>\n",
       "      <td>NaN</td>\n",
       "      <td>NaN</td>\n",
       "      <td>NaN</td>\n",
       "      <td>NaN</td>\n",
       "      <td>NaN</td>\n",
       "      <td>NaN</td>\n",
       "      <td>NaN</td>\n",
       "      <td>NaN</td>\n",
       "    </tr>\n",
       "    <tr>\n",
       "      <th>83274213</th>\n",
       "      <td>250.911728</td>\n",
       "      <td>258.233429</td>\n",
       "      <td>NaN</td>\n",
       "      <td>NaN</td>\n",
       "      <td>NaN</td>\n",
       "      <td>NaN</td>\n",
       "      <td>NaN</td>\n",
       "      <td>NaN</td>\n",
       "      <td>NaN</td>\n",
       "      <td>NaN</td>\n",
       "    </tr>\n",
       "    <tr>\n",
       "      <th>83274214</th>\n",
       "      <td>245.205383</td>\n",
       "      <td>250.556396</td>\n",
       "      <td>NaN</td>\n",
       "      <td>NaN</td>\n",
       "      <td>NaN</td>\n",
       "      <td>NaN</td>\n",
       "      <td>NaN</td>\n",
       "      <td>NaN</td>\n",
       "      <td>NaN</td>\n",
       "      <td>NaN</td>\n",
       "    </tr>\n",
       "    <tr>\n",
       "      <th>83274215</th>\n",
       "      <td>246.064636</td>\n",
       "      <td>243.967484</td>\n",
       "      <td>NaN</td>\n",
       "      <td>NaN</td>\n",
       "      <td>NaN</td>\n",
       "      <td>NaN</td>\n",
       "      <td>NaN</td>\n",
       "      <td>NaN</td>\n",
       "      <td>NaN</td>\n",
       "      <td>NaN</td>\n",
       "    </tr>\n",
       "  </tbody>\n",
       "</table>\n",
       "<p>3649536 rows × 10 columns</p>\n",
       "</div>"
      ],
      "text/plain": [
       "             model_1     model_2  model_3  model_4  model_5  model_6  model_7  \\\n",
       "1320      244.006454  243.089874      NaN      NaN      NaN      NaN      NaN   \n",
       "1321      234.312881  237.254745      NaN      NaN      NaN      NaN      NaN   \n",
       "1322      225.245163  227.119858      NaN      NaN      NaN      NaN      NaN   \n",
       "1323      219.391617  219.860703      NaN      NaN      NaN      NaN      NaN   \n",
       "1324      218.518707  218.428314      NaN      NaN      NaN      NaN      NaN   \n",
       "...              ...         ...      ...      ...      ...      ...      ...   \n",
       "83274211  271.173004  271.253479      NaN      NaN      NaN      NaN      NaN   \n",
       "83274212  259.204193  265.443420      NaN      NaN      NaN      NaN      NaN   \n",
       "83274213  250.911728  258.233429      NaN      NaN      NaN      NaN      NaN   \n",
       "83274214  245.205383  250.556396      NaN      NaN      NaN      NaN      NaN   \n",
       "83274215  246.064636  243.967484      NaN      NaN      NaN      NaN      NaN   \n",
       "\n",
       "          model_8  model_9  model_10  \n",
       "1320          NaN      NaN       NaN  \n",
       "1321          NaN      NaN       NaN  \n",
       "1322          NaN      NaN       NaN  \n",
       "1323          NaN      NaN       NaN  \n",
       "1324          NaN      NaN       NaN  \n",
       "...           ...      ...       ...  \n",
       "83274211      NaN      NaN       NaN  \n",
       "83274212      NaN      NaN       NaN  \n",
       "83274213      NaN      NaN       NaN  \n",
       "83274214      NaN      NaN       NaN  \n",
       "83274215      NaN      NaN       NaN  \n",
       "\n",
       "[3649536 rows x 10 columns]"
      ]
     },
     "execution_count": 5,
     "metadata": {},
     "output_type": "execute_result"
    }
   ],
   "source": [
    "ssp_data.x"
   ]
  },
  {
   "cell_type": "code",
   "execution_count": 31,
   "metadata": {},
   "outputs": [
    {
     "data": {
      "text/plain": [
       "<Axes: >"
      ]
     },
     "execution_count": 31,
     "metadata": {},
     "output_type": "execute_result"
    },
    {
     "data": {
      "image/png": "[encoded data removed]",
      "text/plain": [
       "<Figure size 640x480 with 1 Axes>"
      ]
     },
     "metadata": {},
     "output_type": "display_data"
    }
   ],
   "source": [
    "ssp_data.y.plot()"
   ]
  },
  {
   "cell_type": "code",
   "execution_count": 26,
   "metadata": {},
   "outputs": [
    {
     "data": {
      "text/plain": [
       "<Axes: >"
      ]
     },
     "execution_count": 26,
     "metadata": {},
     "output_type": "execute_result"
    },
    {
     "data": {
      "image/png": "[encoded data removed]",
      "text/plain": [
       "<Figure size 640x480 with 1 Axes>"
      ]
     },
     "metadata": {},
     "output_type": "display_data"
    }
   ],
   "source": [
    "ssp_data.x.plot()"
   ]
  },
  {
   "cell_type": "code",
   "execution_count": 36,
   "metadata": {},
   "outputs": [
    {
     "data": {
      "text/plain": [
       "True"
      ]
     },
     "execution_count": 36,
     "metadata": {},
     "output_type": "execute_result"
    }
   ],
   "source": [
    "ssp_data.data.validate()"
   ]
  },
  {
   "cell_type": "code",
   "execution_count": 37,
   "metadata": {},
   "outputs": [
    {
     "data": {
      "text/plain": [
       "Data(x=[2, 3649536], edge_index=[2, 2], y=[3649536])"
      ]
     },
     "execution_count": 37,
     "metadata": {},
     "output_type": "execute_result"
    }
   ],
   "source": [
    "ssp_data.data"
   ]
  },
  {
   "cell_type": "code",
   "execution_count": 38,
   "metadata": {},
   "outputs": [
    {
     "data": {
      "text/plain": [
       "3649536"
      ]
     },
     "execution_count": 38,
     "metadata": {},
     "output_type": "execute_result"
    }
   ],
   "source": [
    "ssp_data.data.num_node_features"
   ]
  },
  {
   "cell_type": "code",
   "execution_count": 42,
   "metadata": {},
   "outputs": [],
   "source": [
    "import torch.nn.functional as F\n",
    "from torch_geometric.nn import GCNConv\n",
    "import torch\n",
    "\n",
    "class GCN(torch.nn.Module):\n",
    "    def __init__(self):\n",
    "        super().__init__()\n",
    "        self.edge_weight = torch.nn.Parameter(torch.ones(ssp_data.data.num_edges))\n",
    "        self.conv1 = GCNConv(ssp_data.data.num_node_features, 16)\n",
    "        self.conv2 = GCNConv(16, ssp_data.data.num_node_features)\n",
    "\n",
    "    def forward(self, data):\n",
    "        x, edge_index = data.x, data.edge_index\n",
    "\n",
    "        x = self.conv1(x, edge_index)#, torch.minimum(self.edge_weight.abs(),torch.ones(data.num_edges)))\n",
    "        x = F.relu(x)\n",
    "        x = F.dropout(x, training=self.training)\n",
    "        # print(x, edge_index, torch.minimum(self.edge_weight.abs(),torch.ones(data.num_edges)))\n",
    "        x = self.conv2(x, edge_index)#, torch.minimum(self.edge_weight.abs(),torch.ones(data.num_edges)))\n",
    "\n",
    "        return x\n"
   ]
  },
  {
   "cell_type": "code",
   "execution_count": 43,
   "metadata": {},
   "outputs": [
    {
     "name": "stderr",
     "output_type": "stream",
     "text": [
      "C:\\Users\\jqcla\\AppData\\Local\\Temp\\ipykernel_28592\\3691684479.py:11: UserWarning: Using a target size (torch.Size([3649536])) that is different to the input size (torch.Size([2, 3649536])). This will likely lead to incorrect results due to broadcasting. Please ensure they have the same size.\n",
      "  loss = F.mse_loss(out, data.y)\n"
     ]
    },
    {
     "name": "stdout",
     "output_type": "stream",
     "text": [
      "0 tensor(77467.6719, grad_fn=<MseLossBackward0>)\n",
      "1 tensor(81398.3984, grad_fn=<MseLossBackward0>)\n",
      "2 tensor(77515.0234, grad_fn=<MseLossBackward0>)\n",
      "3 tensor(78305.4219, grad_fn=<MseLossBackward0>)\n",
      "4 tensor(77444.2031, grad_fn=<MseLossBackward0>)\n",
      "5 tensor(77438.7344, grad_fn=<MseLossBackward0>)\n",
      "6 tensor(77433.2812, grad_fn=<MseLossBackward0>)\n"
     ]
    },
    {
     "ename": "KeyboardInterrupt",
     "evalue": "",
     "output_type": "error",
     "traceback": [
      "\u001b[1;31m---------------------------------------------------------------------------\u001b[0m",
      "\u001b[1;31mKeyboardInterrupt\u001b[0m                         Traceback (most recent call last)",
      "Cell \u001b[1;32mIn[43], line 14\u001b[0m\n\u001b[0;32m     12\u001b[0m \u001b[39mprint\u001b[39m(epoch, loss)\n\u001b[0;32m     13\u001b[0m loss\u001b[39m.\u001b[39mbackward()\n\u001b[1;32m---> 14\u001b[0m optimizer\u001b[39m.\u001b[39;49mstep()\n",
      "File \u001b[1;32mc:\\Users\\jqcla\\Documents\\GitHub\\Honours-Thesis\\.conda\\lib\\site-packages\\torch\\optim\\optimizer.py:113\u001b[0m, in \u001b[0;36mOptimizer._hook_for_profile.<locals>.profile_hook_step.<locals>.wrapper\u001b[1;34m(*args, **kwargs)\u001b[0m\n\u001b[0;32m    111\u001b[0m profile_name \u001b[39m=\u001b[39m \u001b[39m\"\u001b[39m\u001b[39mOptimizer.step#\u001b[39m\u001b[39m{}\u001b[39;00m\u001b[39m.step\u001b[39m\u001b[39m\"\u001b[39m\u001b[39m.\u001b[39mformat(obj\u001b[39m.\u001b[39m\u001b[39m__class__\u001b[39m\u001b[39m.\u001b[39m\u001b[39m__name__\u001b[39m)\n\u001b[0;32m    112\u001b[0m \u001b[39mwith\u001b[39;00m torch\u001b[39m.\u001b[39mautograd\u001b[39m.\u001b[39mprofiler\u001b[39m.\u001b[39mrecord_function(profile_name):\n\u001b[1;32m--> 113\u001b[0m     \u001b[39mreturn\u001b[39;00m func(\u001b[39m*\u001b[39margs, \u001b[39m*\u001b[39m\u001b[39m*\u001b[39mkwargs)\n",
      "File \u001b[1;32mc:\\Users\\jqcla\\Documents\\GitHub\\Honours-Thesis\\.conda\\lib\\site-packages\\torch\\autograd\\grad_mode.py:27\u001b[0m, in \u001b[0;36m_DecoratorContextManager.__call__.<locals>.decorate_context\u001b[1;34m(*args, **kwargs)\u001b[0m\n\u001b[0;32m     24\u001b[0m \u001b[39m@functools\u001b[39m\u001b[39m.\u001b[39mwraps(func)\n\u001b[0;32m     25\u001b[0m \u001b[39mdef\u001b[39;00m \u001b[39mdecorate_context\u001b[39m(\u001b[39m*\u001b[39margs, \u001b[39m*\u001b[39m\u001b[39m*\u001b[39mkwargs):\n\u001b[0;32m     26\u001b[0m     \u001b[39mwith\u001b[39;00m \u001b[39mself\u001b[39m\u001b[39m.\u001b[39mclone():\n\u001b[1;32m---> 27\u001b[0m         \u001b[39mreturn\u001b[39;00m func(\u001b[39m*\u001b[39margs, \u001b[39m*\u001b[39m\u001b[39m*\u001b[39mkwargs)\n",
      "File \u001b[1;32mc:\\Users\\jqcla\\Documents\\GitHub\\Honours-Thesis\\.conda\\lib\\site-packages\\torch\\optim\\adam.py:157\u001b[0m, in \u001b[0;36mAdam.step\u001b[1;34m(self, closure)\u001b[0m\n\u001b[0;32m    153\u001b[0m                 max_exp_avg_sqs\u001b[39m.\u001b[39mappend(state[\u001b[39m'\u001b[39m\u001b[39mmax_exp_avg_sq\u001b[39m\u001b[39m'\u001b[39m])\n\u001b[0;32m    155\u001b[0m             state_steps\u001b[39m.\u001b[39mappend(state[\u001b[39m'\u001b[39m\u001b[39mstep\u001b[39m\u001b[39m'\u001b[39m])\n\u001b[1;32m--> 157\u001b[0m     adam(params_with_grad,\n\u001b[0;32m    158\u001b[0m          grads,\n\u001b[0;32m    159\u001b[0m          exp_avgs,\n\u001b[0;32m    160\u001b[0m          exp_avg_sqs,\n\u001b[0;32m    161\u001b[0m          max_exp_avg_sqs,\n\u001b[0;32m    162\u001b[0m          state_steps,\n\u001b[0;32m    163\u001b[0m          amsgrad\u001b[39m=\u001b[39;49mgroup[\u001b[39m'\u001b[39;49m\u001b[39mamsgrad\u001b[39;49m\u001b[39m'\u001b[39;49m],\n\u001b[0;32m    164\u001b[0m          beta1\u001b[39m=\u001b[39;49mbeta1,\n\u001b[0;32m    165\u001b[0m          beta2\u001b[39m=\u001b[39;49mbeta2,\n\u001b[0;32m    166\u001b[0m          lr\u001b[39m=\u001b[39;49mgroup[\u001b[39m'\u001b[39;49m\u001b[39mlr\u001b[39;49m\u001b[39m'\u001b[39;49m],\n\u001b[0;32m    167\u001b[0m          weight_decay\u001b[39m=\u001b[39;49mgroup[\u001b[39m'\u001b[39;49m\u001b[39mweight_decay\u001b[39;49m\u001b[39m'\u001b[39;49m],\n\u001b[0;32m    168\u001b[0m          eps\u001b[39m=\u001b[39;49mgroup[\u001b[39m'\u001b[39;49m\u001b[39meps\u001b[39;49m\u001b[39m'\u001b[39;49m],\n\u001b[0;32m    169\u001b[0m          maximize\u001b[39m=\u001b[39;49mgroup[\u001b[39m'\u001b[39;49m\u001b[39mmaximize\u001b[39;49m\u001b[39m'\u001b[39;49m],\n\u001b[0;32m    170\u001b[0m          foreach\u001b[39m=\u001b[39;49mgroup[\u001b[39m'\u001b[39;49m\u001b[39mforeach\u001b[39;49m\u001b[39m'\u001b[39;49m],\n\u001b[0;32m    171\u001b[0m          capturable\u001b[39m=\u001b[39;49mgroup[\u001b[39m'\u001b[39;49m\u001b[39mcapturable\u001b[39;49m\u001b[39m'\u001b[39;49m])\n\u001b[0;32m    173\u001b[0m \u001b[39mreturn\u001b[39;00m loss\n",
      "\u001b[1;31mKeyboardInterrupt\u001b[0m: "
     ]
    }
   ],
   "source": [
    "device = torch.device('cuda:0' if torch.cuda.is_available() else 'cpu')\n",
    "model = GCN().to(device)\n",
    "data = ssp_data.data.to(device)\n",
    "\n",
    "optimizer = torch.optim.Adam(model.parameters(), lr=0.01, weight_decay=5e-4)\n",
    "\n",
    "model.train()\n",
    "for epoch in range(100):\n",
    "    optimizer.zero_grad()\n",
    "    out = model(data)\n",
    "    loss = F.mse_loss(out, data.y)\n",
    "    print(epoch, loss)\n",
    "    loss.backward()\n",
    "    optimizer.step()"
   ]
  },
  {
   "cell_type": "code",
   "execution_count": 90,
   "metadata": {},
   "outputs": [
    {
     "name": "stdout",
     "output_type": "stream",
     "text": [
      "MSE: nan\n"
     ]
    },
    {
     "name": "stderr",
     "output_type": "stream",
     "text": [
      "C:\\Users\\jqcla\\AppData\\Local\\Temp\\ipykernel_8980\\121057100.py:3: UserWarning: Using a target size (torch.Size([5000])) that is different to the input size (torch.Size([39, 5000])). This will likely lead to incorrect results due to broadcasting. Please ensure they have the same size.\n",
      "  mse = F.mse_loss(out, data.y)\n"
     ]
    }
   ],
   "source": [
    "model.eval()\n",
    "out = model(data)\n",
    "mse = F.mse_loss(out, data.y)\n",
    "print(f'MSE: {mse:.4f}')"
   ]
  },
  {
   "cell_type": "code",
   "execution_count": 92,
   "metadata": {},
   "outputs": [
    {
     "data": {
      "text/plain": [
       "<bound method Module.__dir__ of GCN(\n",
       "  (conv1): GCNConv(5000, 16)\n",
       "  (conv2): GCNConv(16, 5000)\n",
       ")>"
      ]
     },
     "execution_count": 92,
     "metadata": {},
     "output_type": "execute_result"
    }
   ],
   "source": [
    "model.__dir__"
   ]
  },
  {
   "cell_type": "code",
   "execution_count": null,
   "metadata": {},
   "outputs": [],
   "source": []
  }
 ],
 "metadata": {
  "kernelspec": {
   "display_name": "Python 3",
   "language": "python",
   "name": "python3"
  },
  "language_info": {
   "codemirror_mode": {
    "name": "ipython",
    "version": 3
   },
   "file_extension": ".py",
   "mimetype": "text/x-python",
   "name": "python",
   "nbconvert_exporter": "python",
   "pygments_lexer": "ipython3",
   "version": "3.9.16"
  },
  "orig_nbformat": 4
 },
 "nbformat": 4,
 "nbformat_minor": 2
}
