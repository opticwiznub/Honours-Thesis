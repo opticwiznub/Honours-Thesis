{
 "cells": [
  {
   "cell_type": "code",
   "execution_count": 7,
   "metadata": {},
   "outputs": [
    {
     "name": "stdout",
     "output_type": "stream",
     "text": [
      "height <class 'netCDF4._netCDF4.Variable'>\n",
      "float64 height()\n",
      "    standard_name: height\n",
      "    long_name: height\n",
      "    units: m\n",
      "    positive: up\n",
      "    axis: Z\n",
      "unlimited dimensions: \n",
      "current shape = ()\n",
      "filling on, default _FillValue of 9.969209968386869e+36 used\n"
     ]
    },
    {
     "ename": "KeyboardInterrupt",
     "evalue": "",
     "output_type": "error",
     "traceback": [
      "\u001b[1;31m---------------------------------------------------------------------------\u001b[0m",
      "\u001b[1;31mKeyboardInterrupt\u001b[0m                         Traceback (most recent call last)",
      "\u001b[1;32m~\\AppData\\Local\\Temp/ipykernel_12796/3791730461.py\u001b[0m in \u001b[0;36m<module>\u001b[1;34m\u001b[0m\n\u001b[0;32m      8\u001b[0m \u001b[1;32mfor\u001b[0m \u001b[0mc\u001b[0m \u001b[1;32min\u001b[0m \u001b[0mcols\u001b[0m\u001b[1;33m:\u001b[0m\u001b[1;33m\u001b[0m\u001b[1;33m\u001b[0m\u001b[0m\n\u001b[0;32m      9\u001b[0m     \u001b[0mprint\u001b[0m\u001b[1;33m(\u001b[0m\u001b[0mc\u001b[0m\u001b[1;33m,\u001b[0m \u001b[0mnc\u001b[0m\u001b[1;33m.\u001b[0m\u001b[0mvariables\u001b[0m\u001b[1;33m[\u001b[0m\u001b[0mc\u001b[0m\u001b[1;33m]\u001b[0m\u001b[1;33m)\u001b[0m\u001b[1;33m\u001b[0m\u001b[1;33m\u001b[0m\u001b[0m\n\u001b[1;32m---> 10\u001b[1;33m     \u001b[0mlist_nc\u001b[0m\u001b[1;33m.\u001b[0m\u001b[0mappend\u001b[0m\u001b[1;33m(\u001b[0m\u001b[0mlist\u001b[0m\u001b[1;33m(\u001b[0m\u001b[0mnc\u001b[0m\u001b[1;33m.\u001b[0m\u001b[0mvariables\u001b[0m\u001b[1;33m[\u001b[0m\u001b[0mc\u001b[0m\u001b[1;33m]\u001b[0m\u001b[1;33m)\u001b[0m\u001b[1;33m)\u001b[0m\u001b[1;33m\u001b[0m\u001b[1;33m\u001b[0m\u001b[0m\n\u001b[0m\u001b[0;32m     11\u001b[0m \u001b[0mdf_nc\u001b[0m \u001b[1;33m=\u001b[0m \u001b[0mpd\u001b[0m\u001b[1;33m.\u001b[0m\u001b[0mDataFrame\u001b[0m\u001b[1;33m(\u001b[0m\u001b[0mlist_nc\u001b[0m\u001b[1;33m)\u001b[0m\u001b[1;33m\u001b[0m\u001b[1;33m\u001b[0m\u001b[0m\n\u001b[0;32m     12\u001b[0m \u001b[0mdf_nc\u001b[0m \u001b[1;33m=\u001b[0m \u001b[0mdf_nc\u001b[0m\u001b[1;33m.\u001b[0m\u001b[0mT\u001b[0m\u001b[1;33m\u001b[0m\u001b[1;33m\u001b[0m\u001b[0m\n",
      "\u001b[1;32msrc\\netCDF4\\_netCDF4.pyx\u001b[0m in \u001b[0;36mnetCDF4._netCDF4.Variable.__getitem__\u001b[1;34m()\u001b[0m\n",
      "\u001b[1;32msrc\\netCDF4\\_netCDF4.pyx\u001b[0m in \u001b[0;36mnetCDF4._netCDF4.Variable._toma\u001b[1;34m()\u001b[0m\n",
      "\u001b[1;32m~\\AppData\\Local\\Packages\\PythonSoftwareFoundation.Python.3.9_qbz5n2kfra8p0\\LocalCache\\local-packages\\Python39\\site-packages\\numpy\\core\\_methods.py\u001b[0m in \u001b[0;36m_any\u001b[1;34m(a, axis, dtype, out, keepdims, where)\u001b[0m\n\u001b[0;32m     53\u001b[0m     \u001b[1;32mreturn\u001b[0m \u001b[0mumr_prod\u001b[0m\u001b[1;33m(\u001b[0m\u001b[0ma\u001b[0m\u001b[1;33m,\u001b[0m \u001b[0maxis\u001b[0m\u001b[1;33m,\u001b[0m \u001b[0mdtype\u001b[0m\u001b[1;33m,\u001b[0m \u001b[0mout\u001b[0m\u001b[1;33m,\u001b[0m \u001b[0mkeepdims\u001b[0m\u001b[1;33m,\u001b[0m \u001b[0minitial\u001b[0m\u001b[1;33m,\u001b[0m \u001b[0mwhere\u001b[0m\u001b[1;33m)\u001b[0m\u001b[1;33m\u001b[0m\u001b[1;33m\u001b[0m\u001b[0m\n\u001b[0;32m     54\u001b[0m \u001b[1;33m\u001b[0m\u001b[0m\n\u001b[1;32m---> 55\u001b[1;33m \u001b[1;32mdef\u001b[0m \u001b[0m_any\u001b[0m\u001b[1;33m(\u001b[0m\u001b[0ma\u001b[0m\u001b[1;33m,\u001b[0m \u001b[0maxis\u001b[0m\u001b[1;33m=\u001b[0m\u001b[1;32mNone\u001b[0m\u001b[1;33m,\u001b[0m \u001b[0mdtype\u001b[0m\u001b[1;33m=\u001b[0m\u001b[1;32mNone\u001b[0m\u001b[1;33m,\u001b[0m \u001b[0mout\u001b[0m\u001b[1;33m=\u001b[0m\u001b[1;32mNone\u001b[0m\u001b[1;33m,\u001b[0m \u001b[0mkeepdims\u001b[0m\u001b[1;33m=\u001b[0m\u001b[1;32mFalse\u001b[0m\u001b[1;33m,\u001b[0m \u001b[1;33m*\u001b[0m\u001b[1;33m,\u001b[0m \u001b[0mwhere\u001b[0m\u001b[1;33m=\u001b[0m\u001b[1;32mTrue\u001b[0m\u001b[1;33m)\u001b[0m\u001b[1;33m:\u001b[0m\u001b[1;33m\u001b[0m\u001b[1;33m\u001b[0m\u001b[0m\n\u001b[0m\u001b[0;32m     56\u001b[0m     \u001b[1;31m# Parsing keyword arguments is currently fairly slow, so avoid it for now\u001b[0m\u001b[1;33m\u001b[0m\u001b[1;33m\u001b[0m\u001b[0m\n\u001b[0;32m     57\u001b[0m     \u001b[1;32mif\u001b[0m \u001b[0mwhere\u001b[0m \u001b[1;32mis\u001b[0m \u001b[1;32mTrue\u001b[0m\u001b[1;33m:\u001b[0m\u001b[1;33m\u001b[0m\u001b[1;33m\u001b[0m\u001b[0m\n",
      "\u001b[1;31mKeyboardInterrupt\u001b[0m: "
     ]
    }
   ],
   "source": [
    "import netCDF4\n",
    "import pandas as pd\n",
    "\n",
    "precip_nc_file = 'data\\\\tas_scenario_245\\\\tas_mon_mod_ssp245_192_000.nc'\n",
    "nc = netCDF4.Dataset(precip_nc_file)\n",
    "cols = list(nc.variables.keys())\n",
    "list_nc = []\n",
    "for c in cols:\n",
    "    print(c, nc.variables[c])\n",
    "    list_nc.append(list(nc.variables[c]))\n",
    "df_nc = pd.DataFrame(list_nc)\n",
    "df_nc = df_nc.T\n",
    "df_nc.columns = cols\n",
    "df_nc.to_csv(\"file_path.csv\", index = False)"
   ]
  },
  {
   "cell_type": "code",
   "execution_count": 3,
   "metadata": {},
   "outputs": [
    {
     "data": {
      "text/plain": [
       "['height', 'lat', 'lon', 'tas', 'time']"
      ]
     },
     "execution_count": 3,
     "metadata": {},
     "output_type": "execute_result"
    }
   ],
   "source": [
    "cols"
   ]
  },
  {
   "cell_type": "code",
   "execution_count": 8,
   "metadata": {},
   "outputs": [
    {
     "data": {
      "text/html": [
       "<div>\n",
       "<style scoped>\n",
       "    .dataframe tbody tr th:only-of-type {\n",
       "        vertical-align: middle;\n",
       "    }\n",
       "\n",
       "    .dataframe tbody tr th {\n",
       "        vertical-align: top;\n",
       "    }\n",
       "\n",
       "    .dataframe thead th {\n",
       "        text-align: right;\n",
       "    }\n",
       "</style>\n",
       "<table border=\"1\" class=\"dataframe\">\n",
       "  <thead>\n",
       "    <tr style=\"text-align: right;\">\n",
       "      <th></th>\n",
       "      <th>lat</th>\n",
       "      <th>lon</th>\n",
       "      <th>time</th>\n",
       "      <th>height</th>\n",
       "      <th>tas</th>\n",
       "    </tr>\n",
       "  </thead>\n",
       "  <tbody>\n",
       "    <tr>\n",
       "      <th>0</th>\n",
       "      <td>-89.375</td>\n",
       "      <td>0.000</td>\n",
       "      <td>1850-01-16 12:00:00</td>\n",
       "      <td>2.0</td>\n",
       "      <td>252.504318</td>\n",
       "    </tr>\n",
       "    <tr>\n",
       "      <th>1</th>\n",
       "      <td>-89.375</td>\n",
       "      <td>0.000</td>\n",
       "      <td>1850-02-15 00:00:00</td>\n",
       "      <td>2.0</td>\n",
       "      <td>236.253250</td>\n",
       "    </tr>\n",
       "    <tr>\n",
       "      <th>2</th>\n",
       "      <td>-89.375</td>\n",
       "      <td>0.000</td>\n",
       "      <td>1850-03-16 12:00:00</td>\n",
       "      <td>2.0</td>\n",
       "      <td>217.723312</td>\n",
       "    </tr>\n",
       "    <tr>\n",
       "      <th>3</th>\n",
       "      <td>-89.375</td>\n",
       "      <td>0.000</td>\n",
       "      <td>1850-04-16 00:00:00</td>\n",
       "      <td>2.0</td>\n",
       "      <td>213.946365</td>\n",
       "    </tr>\n",
       "    <tr>\n",
       "      <th>4</th>\n",
       "      <td>-89.375</td>\n",
       "      <td>0.000</td>\n",
       "      <td>1850-05-16 12:00:00</td>\n",
       "      <td>2.0</td>\n",
       "      <td>210.434448</td>\n",
       "    </tr>\n",
       "    <tr>\n",
       "      <th>...</th>\n",
       "      <td>...</td>\n",
       "      <td>...</td>\n",
       "      <td>...</td>\n",
       "      <td>...</td>\n",
       "      <td>...</td>\n",
       "    </tr>\n",
       "    <tr>\n",
       "      <th>83275771</th>\n",
       "      <td>89.375</td>\n",
       "      <td>358.125</td>\n",
       "      <td>2100-08-16 12:00:00</td>\n",
       "      <td>2.0</td>\n",
       "      <td>274.949463</td>\n",
       "    </tr>\n",
       "    <tr>\n",
       "      <th>83275772</th>\n",
       "      <td>89.375</td>\n",
       "      <td>358.125</td>\n",
       "      <td>2100-09-16 00:00:00</td>\n",
       "      <td>2.0</td>\n",
       "      <td>274.228302</td>\n",
       "    </tr>\n",
       "    <tr>\n",
       "      <th>83275773</th>\n",
       "      <td>89.375</td>\n",
       "      <td>358.125</td>\n",
       "      <td>2100-10-16 12:00:00</td>\n",
       "      <td>2.0</td>\n",
       "      <td>272.529755</td>\n",
       "    </tr>\n",
       "    <tr>\n",
       "      <th>83275774</th>\n",
       "      <td>89.375</td>\n",
       "      <td>358.125</td>\n",
       "      <td>2100-11-16 00:00:00</td>\n",
       "      <td>2.0</td>\n",
       "      <td>271.059570</td>\n",
       "    </tr>\n",
       "    <tr>\n",
       "      <th>83275775</th>\n",
       "      <td>89.375</td>\n",
       "      <td>358.125</td>\n",
       "      <td>2100-12-16 12:00:00</td>\n",
       "      <td>2.0</td>\n",
       "      <td>265.202423</td>\n",
       "    </tr>\n",
       "  </tbody>\n",
       "</table>\n",
       "<p>83275776 rows × 5 columns</p>\n",
       "</div>"
      ],
      "text/plain": [
       "             lat      lon                time  height         tas\n",
       "0        -89.375    0.000 1850-01-16 12:00:00     2.0  252.504318\n",
       "1        -89.375    0.000 1850-02-15 00:00:00     2.0  236.253250\n",
       "2        -89.375    0.000 1850-03-16 12:00:00     2.0  217.723312\n",
       "3        -89.375    0.000 1850-04-16 00:00:00     2.0  213.946365\n",
       "4        -89.375    0.000 1850-05-16 12:00:00     2.0  210.434448\n",
       "...          ...      ...                 ...     ...         ...\n",
       "83275771  89.375  358.125 2100-08-16 12:00:00     2.0  274.949463\n",
       "83275772  89.375  358.125 2100-09-16 00:00:00     2.0  274.228302\n",
       "83275773  89.375  358.125 2100-10-16 12:00:00     2.0  272.529755\n",
       "83275774  89.375  358.125 2100-11-16 00:00:00     2.0  271.059570\n",
       "83275775  89.375  358.125 2100-12-16 12:00:00     2.0  265.202423\n",
       "\n",
       "[83275776 rows x 5 columns]"
      ]
     },
     "execution_count": 8,
     "metadata": {},
     "output_type": "execute_result"
    }
   ],
   "source": [
    "import xarray as xr\n",
    "import pandas as pd\n",
    "\n",
    "filename = 'data\\\\tas_scenario_245\\\\tas_mon_mod_ssp245_192_000.nc'\n",
    "data = xr.open_dataset(filename)\n",
    "\n",
    "data_df = data.to_dataframe().reset_index()\n",
    "data_df"
   ]
  },
  {
   "cell_type": "code",
   "execution_count": null,
   "metadata": {},
   "outputs": [],
   "source": [
    "filtered_df = data_df.loc[(data_df['time'].year.between(1950, 2100, inclusive=True)) & (data_df['lat'].between(-9, -44, inclusive=True)) & (data_df['lon'].between(, -44, inclusive=True))]"
   ]
  }
 ],
 "metadata": {
  "kernelspec": {
   "display_name": "Python 3",
   "language": "python",
   "name": "python3"
  },
  "language_info": {
   "codemirror_mode": {
    "name": "ipython",
    "version": 3
   },
   "file_extension": ".py",
   "mimetype": "text/x-python",
   "name": "python",
   "nbconvert_exporter": "python",
   "pygments_lexer": "ipython3",
   "version": "3.9.13"
  },
  "orig_nbformat": 4
 },
 "nbformat": 4,
 "nbformat_minor": 2
}
